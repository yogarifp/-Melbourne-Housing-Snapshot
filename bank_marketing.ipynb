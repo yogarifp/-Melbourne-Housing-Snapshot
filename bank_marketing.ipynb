{
 "cells": [
  {
   "cell_type": "markdown",
   "metadata": {
    "id": "OpsiY0oo_5uJ"
   },
   "source": [
    "$\\textbf{Team Keep it Up}$ <br>\n",
    "* Akbar Nugroho Rianto<br>\n",
    "* Dzakiyyah Hanifatulqolbi<br>\n",
    "* Hans Halwi<br>\n",
    "* Ninatantya Budi<br>\n",
    "* Yoga Arif Prasetyo<br>"
   ]
  },
  {
   "cell_type": "markdown",
   "metadata": {
    "id": "5QqioF7JsZxU"
   },
   "source": [
    "# Introduction"
   ]
  },
  {
   "cell_type": "markdown",
   "metadata": {
    "id": "du1BpkOysZxV"
   },
   "source": [
    "**Problem**<br>\n",
    "Terjadinya penurunan budget untuk campaign telemarketing sebesar 20% dengan ekspektasi conversion rate tidak kurang dari campaign sebelumnya. <br>\n",
    "* Budget awal sebesar 116,718 → 93,374.48\n",
    "* Conversion rate 11.7%"
   ]
  },
  {
   "cell_type": "markdown",
   "metadata": {
    "id": "Plcu6Q13sZxY"
   },
   "source": [
    "**Goal**<br>\n",
    "Mempertahankan conversion rate sebesar 11.7% dengan budget yang tersedia"
   ]
  },
  {
   "cell_type": "markdown",
   "metadata": {
    "id": "PbK3mDfrsZxZ"
   },
   "source": [
    "**Objective**<br>\n",
    "Membuat model machine learning untuk membuat list/klasifikasi data customer potensial"
   ]
  },
  {
   "cell_type": "markdown",
   "metadata": {
    "id": "zy_m8BzFsZxZ"
   },
   "source": [
    "**Business Metric**<br>\n",
    "* Jumlah customer yang membuka tabungan deposito selama campaign\n",
    "* Cost yang dikeluarkan untuk menarik customer (customer acquisition cost) "
   ]
  },
  {
   "cell_type": "code",
   "execution_count": 1,
   "metadata": {
    "executionInfo": {
     "elapsed": 2861,
     "status": "ok",
     "timestamp": 1639621691679,
     "user": {
      "displayName": "Hans Halwi",
      "photoUrl": "https://lh3.googleusercontent.com/a/default-user=s64",
      "userId": "09772554882127127798"
     },
     "user_tz": -420
    },
    "id": "G_LavIXOsZxa"
   },
   "outputs": [],
   "source": [
    "import warnings\n",
    "warnings.filterwarnings('ignore')\n",
    "\n",
    "import numpy as np\n",
    "import pandas as pd\n",
    "from scipy.stats import uniform\n",
    "import matplotlib.pyplot as plt\n",
    "import seaborn as sns\n",
    "from matplotlib import rcParams\n",
    "rcParams['figure.figsize'] = 12, 4\n",
    "rcParams['lines.linewidth'] = 3\n",
    "rcParams['xtick.labelsize'] = 'x-large'\n",
    "rcParams['ytick.labelsize'] = 'x-large'\n",
    "\n",
    "\n",
    "from sklearn.metrics import accuracy_score, precision_score, recall_score, f1_score, roc_auc_score\n",
    "from sklearn.model_selection import train_test_split\n",
    "from sklearn.linear_model import LogisticRegression\n",
    "from sklearn.neighbors import KNeighborsClassifier\n",
    "from sklearn.ensemble import AdaBoostClassifier\n",
    "from sklearn.tree import DecisionTreeClassifier\n",
    "from sklearn import tree\n",
    "from sklearn.ensemble import RandomForestClassifier\n",
    "from sklearn.model_selection import RandomizedSearchCV, GridSearchCV\n",
    "from xgboost import XGBClassifier\n",
    "import statsmodels.api as sm\n",
    "from imblearn import under_sampling, over_sampling"
   ]
  },
  {
   "cell_type": "markdown",
   "metadata": {
    "id": "y41Xb0VQsZxe"
   },
   "source": [
    "# Load and Describe Data"
   ]
  },
  {
   "cell_type": "markdown",
   "metadata": {
    "id": "eoeW3A-MsZxg"
   },
   "source": [
    "## Load Data"
   ]
  },
  {
   "cell_type": "code",
   "execution_count": 2,
   "metadata": {
    "colab": {
     "base_uri": "https://localhost:8080/",
     "height": 112
    },
    "executionInfo": {
     "elapsed": 5,
     "status": "ok",
     "timestamp": 1639621693301,
     "user": {
      "displayName": "Hans Halwi",
      "photoUrl": "https://lh3.googleusercontent.com/a/default-user=s64",
      "userId": "09772554882127127798"
     },
     "user_tz": -420
    },
    "id": "hIm1SKTvsZxi",
    "outputId": "8ac7f0f8-9b59-4fda-d60b-b34f32eb0f5a"
   },
   "outputs": [
    {
     "data": {
      "text/html": [
       "<div>\n",
       "<style scoped>\n",
       "    .dataframe tbody tr th:only-of-type {\n",
       "        vertical-align: middle;\n",
       "    }\n",
       "\n",
       "    .dataframe tbody tr th {\n",
       "        vertical-align: top;\n",
       "    }\n",
       "\n",
       "    .dataframe thead th {\n",
       "        text-align: right;\n",
       "    }\n",
       "</style>\n",
       "<table border=\"1\" class=\"dataframe\">\n",
       "  <thead>\n",
       "    <tr style=\"text-align: right;\">\n",
       "      <th></th>\n",
       "      <th>age</th>\n",
       "      <th>job</th>\n",
       "      <th>marital</th>\n",
       "      <th>education</th>\n",
       "      <th>default</th>\n",
       "      <th>balance</th>\n",
       "      <th>housing</th>\n",
       "      <th>loan</th>\n",
       "      <th>contact</th>\n",
       "      <th>day</th>\n",
       "      <th>month</th>\n",
       "      <th>duration</th>\n",
       "      <th>campaign</th>\n",
       "      <th>pdays</th>\n",
       "      <th>previous</th>\n",
       "      <th>poutcome</th>\n",
       "      <th>y</th>\n",
       "    </tr>\n",
       "  </thead>\n",
       "  <tbody>\n",
       "    <tr>\n",
       "      <th>0</th>\n",
       "      <td>58</td>\n",
       "      <td>management</td>\n",
       "      <td>married</td>\n",
       "      <td>tertiary</td>\n",
       "      <td>no</td>\n",
       "      <td>2143</td>\n",
       "      <td>yes</td>\n",
       "      <td>no</td>\n",
       "      <td>unknown</td>\n",
       "      <td>5</td>\n",
       "      <td>may</td>\n",
       "      <td>261</td>\n",
       "      <td>1</td>\n",
       "      <td>-1</td>\n",
       "      <td>0</td>\n",
       "      <td>unknown</td>\n",
       "      <td>no</td>\n",
       "    </tr>\n",
       "    <tr>\n",
       "      <th>1</th>\n",
       "      <td>44</td>\n",
       "      <td>technician</td>\n",
       "      <td>single</td>\n",
       "      <td>secondary</td>\n",
       "      <td>no</td>\n",
       "      <td>29</td>\n",
       "      <td>yes</td>\n",
       "      <td>no</td>\n",
       "      <td>unknown</td>\n",
       "      <td>5</td>\n",
       "      <td>may</td>\n",
       "      <td>151</td>\n",
       "      <td>1</td>\n",
       "      <td>-1</td>\n",
       "      <td>0</td>\n",
       "      <td>unknown</td>\n",
       "      <td>no</td>\n",
       "    </tr>\n",
       "  </tbody>\n",
       "</table>\n",
       "</div>"
      ],
      "text/plain": [
       "   age         job  marital  education default  balance housing loan  contact  \\\n",
       "0   58  management  married   tertiary      no     2143     yes   no  unknown   \n",
       "1   44  technician   single  secondary      no       29     yes   no  unknown   \n",
       "\n",
       "   day month  duration  campaign  pdays  previous poutcome   y  \n",
       "0    5   may       261         1     -1         0  unknown  no  \n",
       "1    5   may       151         1     -1         0  unknown  no  "
      ]
     },
     "execution_count": 2,
     "metadata": {},
     "output_type": "execute_result"
    }
   ],
   "source": [
    "df = pd.read_csv('train.csv',sep=';')\n",
    "df.head(2)"
   ]
  },
  {
   "cell_type": "markdown",
   "metadata": {
    "id": "o7kP1EljsZxk"
   },
   "source": [
    "## Data Description"
   ]
  },
  {
   "cell_type": "code",
   "execution_count": 3,
   "metadata": {
    "colab": {
     "base_uri": "https://localhost:8080/"
    },
    "executionInfo": {
     "elapsed": 538,
     "status": "ok",
     "timestamp": 1639199099378,
     "user": {
      "displayName": "Yoga Arif Prasetyo",
      "photoUrl": "https://lh3.googleusercontent.com/a-/AOh14GhIHOM0hjk81qSnAXjHjjE0vY0QrFxbyiwTGmPySw=s64",
      "userId": "08915794686434457753"
     },
     "user_tz": -420
    },
    "id": "3fTZECqpsZxk",
    "outputId": "df466d8c-5729-4669-9d27-aeef6ec894ca"
   },
   "outputs": [
    {
     "name": "stdout",
     "output_type": "stream",
     "text": [
      "<class 'pandas.core.frame.DataFrame'>\n",
      "RangeIndex: 45211 entries, 0 to 45210\n",
      "Data columns (total 17 columns):\n",
      " #   Column     Non-Null Count  Dtype \n",
      "---  ------     --------------  ----- \n",
      " 0   age        45211 non-null  int64 \n",
      " 1   job        45211 non-null  object\n",
      " 2   marital    45211 non-null  object\n",
      " 3   education  45211 non-null  object\n",
      " 4   default    45211 non-null  object\n",
      " 5   balance    45211 non-null  int64 \n",
      " 6   housing    45211 non-null  object\n",
      " 7   loan       45211 non-null  object\n",
      " 8   contact    45211 non-null  object\n",
      " 9   day        45211 non-null  int64 \n",
      " 10  month      45211 non-null  object\n",
      " 11  duration   45211 non-null  int64 \n",
      " 12  campaign   45211 non-null  int64 \n",
      " 13  pdays      45211 non-null  int64 \n",
      " 14  previous   45211 non-null  int64 \n",
      " 15  poutcome   45211 non-null  object\n",
      " 16  y          45211 non-null  object\n",
      "dtypes: int64(7), object(10)\n",
      "memory usage: 5.9+ MB\n"
     ]
    }
   ],
   "source": [
    "df.info()"
   ]
  },
  {
   "cell_type": "markdown",
   "metadata": {
    "id": "vcgAkEvwsZxl"
   },
   "source": [
    "## Numerical Data"
   ]
  },
  {
   "cell_type": "code",
   "execution_count": 4,
   "metadata": {
    "colab": {
     "base_uri": "https://localhost:8080/"
    },
    "executionInfo": {
     "elapsed": 518,
     "status": "ok",
     "timestamp": 1639199099380,
     "user": {
      "displayName": "Yoga Arif Prasetyo",
      "photoUrl": "https://lh3.googleusercontent.com/a-/AOh14GhIHOM0hjk81qSnAXjHjjE0vY0QrFxbyiwTGmPySw=s64",
      "userId": "08915794686434457753"
     },
     "user_tz": -420
    },
    "id": "pqodG9vCsZxm",
    "outputId": "e4dd7b82-c3d6-42fe-d5e0-0a5ce764c3c0"
   },
   "outputs": [
    {
     "name": "stdout",
     "output_type": "stream",
     "text": [
      "Index(['age', 'balance', 'day', 'duration', 'campaign', 'pdays', 'previous'], dtype='object')\n"
     ]
    }
   ],
   "source": [
    "num_dtypes = ['int16','int32','int64','float16','float32','float64']\n",
    "\n",
    "num_df = df.select_dtypes(include=num_dtypes)\n",
    "numericals = num_df.columns\n",
    "\n",
    "print(numericals)"
   ]
  },
  {
   "cell_type": "markdown",
   "metadata": {
    "id": "5PLkTCLDsZxn"
   },
   "source": [
    "## Non Numerical Data"
   ]
  },
  {
   "cell_type": "code",
   "execution_count": 5,
   "metadata": {
    "colab": {
     "base_uri": "https://localhost:8080/"
    },
    "executionInfo": {
     "elapsed": 488,
     "status": "ok",
     "timestamp": 1639199099387,
     "user": {
      "displayName": "Yoga Arif Prasetyo",
      "photoUrl": "https://lh3.googleusercontent.com/a-/AOh14GhIHOM0hjk81qSnAXjHjjE0vY0QrFxbyiwTGmPySw=s64",
      "userId": "08915794686434457753"
     },
     "user_tz": -420
    },
    "id": "Kxvp890lsZxo",
    "outputId": "2e94b6e7-a3f0-4be5-adfa-ee75a101ba5f"
   },
   "outputs": [
    {
     "name": "stdout",
     "output_type": "stream",
     "text": [
      "Index(['job', 'marital', 'education', 'default', 'housing', 'loan', 'contact',\n",
      "       'month', 'poutcome', 'y'],\n",
      "      dtype='object')\n"
     ]
    }
   ],
   "source": [
    "cat_dtypes = ['object']\n",
    "\n",
    "cat_df = df.select_dtypes(include=cat_dtypes)\n",
    "categoricals = cat_df.columns\n",
    "\n",
    "print(categoricals)"
   ]
  },
  {
   "cell_type": "code",
   "execution_count": 6,
   "metadata": {
    "colab": {
     "base_uri": "https://localhost:8080/"
    },
    "executionInfo": {
     "elapsed": 467,
     "status": "ok",
     "timestamp": 1639199099396,
     "user": {
      "displayName": "Yoga Arif Prasetyo",
      "photoUrl": "https://lh3.googleusercontent.com/a-/AOh14GhIHOM0hjk81qSnAXjHjjE0vY0QrFxbyiwTGmPySw=s64",
      "userId": "08915794686434457753"
     },
     "user_tz": -420
    },
    "id": "od1nQXPTsZxp",
    "outputId": "4c3984e6-9ce5-4cf5-e83b-794101e163dc"
   },
   "outputs": [
    {
     "data": {
      "text/plain": [
       "blue-collar      9732\n",
       "management       9458\n",
       "technician       7597\n",
       "admin.           5171\n",
       "services         4154\n",
       "retired          2264\n",
       "self-employed    1579\n",
       "entrepreneur     1487\n",
       "unemployed       1303\n",
       "housemaid        1240\n",
       "student           938\n",
       "unknown           288\n",
       "Name: job, dtype: int64"
      ]
     },
     "execution_count": 6,
     "metadata": {},
     "output_type": "execute_result"
    }
   ],
   "source": [
    "df['job'].value_counts()"
   ]
  },
  {
   "cell_type": "code",
   "execution_count": 7,
   "metadata": {
    "colab": {
     "base_uri": "https://localhost:8080/"
    },
    "executionInfo": {
     "elapsed": 443,
     "status": "ok",
     "timestamp": 1639199099399,
     "user": {
      "displayName": "Yoga Arif Prasetyo",
      "photoUrl": "https://lh3.googleusercontent.com/a-/AOh14GhIHOM0hjk81qSnAXjHjjE0vY0QrFxbyiwTGmPySw=s64",
      "userId": "08915794686434457753"
     },
     "user_tz": -420
    },
    "id": "khKclJPmsZxp",
    "outputId": "5a1c1786-c030-4356-8c98-b193b346ef0b"
   },
   "outputs": [
    {
     "data": {
      "text/plain": [
       "married     27214\n",
       "single      12790\n",
       "divorced     5207\n",
       "Name: marital, dtype: int64"
      ]
     },
     "execution_count": 7,
     "metadata": {},
     "output_type": "execute_result"
    }
   ],
   "source": [
    "df['marital'].value_counts()"
   ]
  },
  {
   "cell_type": "code",
   "execution_count": 8,
   "metadata": {
    "colab": {
     "base_uri": "https://localhost:8080/"
    },
    "executionInfo": {
     "elapsed": 420,
     "status": "ok",
     "timestamp": 1639199099403,
     "user": {
      "displayName": "Yoga Arif Prasetyo",
      "photoUrl": "https://lh3.googleusercontent.com/a-/AOh14GhIHOM0hjk81qSnAXjHjjE0vY0QrFxbyiwTGmPySw=s64",
      "userId": "08915794686434457753"
     },
     "user_tz": -420
    },
    "id": "oiIZ-Gk4sZxq",
    "outputId": "d3ff6229-5b3c-4e40-d7a1-7fd53ec11cfd"
   },
   "outputs": [
    {
     "data": {
      "text/plain": [
       "secondary    23202\n",
       "tertiary     13301\n",
       "primary       6851\n",
       "unknown       1857\n",
       "Name: education, dtype: int64"
      ]
     },
     "execution_count": 8,
     "metadata": {},
     "output_type": "execute_result"
    }
   ],
   "source": [
    "df['education'].value_counts()"
   ]
  },
  {
   "cell_type": "code",
   "execution_count": 9,
   "metadata": {
    "colab": {
     "base_uri": "https://localhost:8080/"
    },
    "executionInfo": {
     "elapsed": 393,
     "status": "ok",
     "timestamp": 1639199099406,
     "user": {
      "displayName": "Yoga Arif Prasetyo",
      "photoUrl": "https://lh3.googleusercontent.com/a-/AOh14GhIHOM0hjk81qSnAXjHjjE0vY0QrFxbyiwTGmPySw=s64",
      "userId": "08915794686434457753"
     },
     "user_tz": -420
    },
    "id": "gtp6hsmxsZxq",
    "outputId": "585b08b2-3f61-488a-96c0-71e8f26836a6"
   },
   "outputs": [
    {
     "data": {
      "text/plain": [
       "no     44396\n",
       "yes      815\n",
       "Name: default, dtype: int64"
      ]
     },
     "execution_count": 9,
     "metadata": {},
     "output_type": "execute_result"
    }
   ],
   "source": [
    "df['default'].value_counts()"
   ]
  },
  {
   "cell_type": "code",
   "execution_count": 10,
   "metadata": {
    "colab": {
     "base_uri": "https://localhost:8080/"
    },
    "executionInfo": {
     "elapsed": 366,
     "status": "ok",
     "timestamp": 1639199099408,
     "user": {
      "displayName": "Yoga Arif Prasetyo",
      "photoUrl": "https://lh3.googleusercontent.com/a-/AOh14GhIHOM0hjk81qSnAXjHjjE0vY0QrFxbyiwTGmPySw=s64",
      "userId": "08915794686434457753"
     },
     "user_tz": -420
    },
    "id": "LD_himCfsZxr",
    "outputId": "3257946d-21dd-4828-9796-9044e62ba641"
   },
   "outputs": [
    {
     "data": {
      "text/plain": [
       "yes    25130\n",
       "no     20081\n",
       "Name: housing, dtype: int64"
      ]
     },
     "execution_count": 10,
     "metadata": {},
     "output_type": "execute_result"
    }
   ],
   "source": [
    "df['housing'].value_counts()"
   ]
  },
  {
   "cell_type": "code",
   "execution_count": 11,
   "metadata": {
    "colab": {
     "base_uri": "https://localhost:8080/"
    },
    "executionInfo": {
     "elapsed": 342,
     "status": "ok",
     "timestamp": 1639199099410,
     "user": {
      "displayName": "Yoga Arif Prasetyo",
      "photoUrl": "https://lh3.googleusercontent.com/a-/AOh14GhIHOM0hjk81qSnAXjHjjE0vY0QrFxbyiwTGmPySw=s64",
      "userId": "08915794686434457753"
     },
     "user_tz": -420
    },
    "id": "9drXcNZMsZxt",
    "outputId": "b4035f5b-be1a-46d5-b436-1a8317d7b364"
   },
   "outputs": [
    {
     "data": {
      "text/plain": [
       "no     37967\n",
       "yes     7244\n",
       "Name: loan, dtype: int64"
      ]
     },
     "execution_count": 11,
     "metadata": {},
     "output_type": "execute_result"
    }
   ],
   "source": [
    "df['loan'].value_counts()"
   ]
  },
  {
   "cell_type": "code",
   "execution_count": 12,
   "metadata": {
    "colab": {
     "base_uri": "https://localhost:8080/"
    },
    "executionInfo": {
     "elapsed": 315,
     "status": "ok",
     "timestamp": 1639199099411,
     "user": {
      "displayName": "Yoga Arif Prasetyo",
      "photoUrl": "https://lh3.googleusercontent.com/a-/AOh14GhIHOM0hjk81qSnAXjHjjE0vY0QrFxbyiwTGmPySw=s64",
      "userId": "08915794686434457753"
     },
     "user_tz": -420
    },
    "id": "Pr5UColSsZxt",
    "outputId": "e6a25f3b-44d2-42f3-90d2-edca3c2c6f0f"
   },
   "outputs": [
    {
     "data": {
      "text/plain": [
       "cellular     29285\n",
       "unknown      13020\n",
       "telephone     2906\n",
       "Name: contact, dtype: int64"
      ]
     },
     "execution_count": 12,
     "metadata": {},
     "output_type": "execute_result"
    }
   ],
   "source": [
    "df['contact'].value_counts()"
   ]
  },
  {
   "cell_type": "code",
   "execution_count": 13,
   "metadata": {
    "colab": {
     "base_uri": "https://localhost:8080/"
    },
    "executionInfo": {
     "elapsed": 281,
     "status": "ok",
     "timestamp": 1639199099412,
     "user": {
      "displayName": "Yoga Arif Prasetyo",
      "photoUrl": "https://lh3.googleusercontent.com/a-/AOh14GhIHOM0hjk81qSnAXjHjjE0vY0QrFxbyiwTGmPySw=s64",
      "userId": "08915794686434457753"
     },
     "user_tz": -420
    },
    "id": "rHKk4zfCsZxv",
    "outputId": "46e82cf5-7fd6-48c0-fca7-14c07d746e90"
   },
   "outputs": [
    {
     "data": {
      "text/plain": [
       "may    13766\n",
       "jul     6895\n",
       "aug     6247\n",
       "jun     5341\n",
       "nov     3970\n",
       "apr     2932\n",
       "feb     2649\n",
       "jan     1403\n",
       "oct      738\n",
       "sep      579\n",
       "mar      477\n",
       "dec      214\n",
       "Name: month, dtype: int64"
      ]
     },
     "execution_count": 13,
     "metadata": {},
     "output_type": "execute_result"
    }
   ],
   "source": [
    "df['month'].value_counts()"
   ]
  },
  {
   "cell_type": "code",
   "execution_count": 14,
   "metadata": {
    "colab": {
     "base_uri": "https://localhost:8080/"
    },
    "executionInfo": {
     "elapsed": 253,
     "status": "ok",
     "timestamp": 1639199099413,
     "user": {
      "displayName": "Yoga Arif Prasetyo",
      "photoUrl": "https://lh3.googleusercontent.com/a-/AOh14GhIHOM0hjk81qSnAXjHjjE0vY0QrFxbyiwTGmPySw=s64",
      "userId": "08915794686434457753"
     },
     "user_tz": -420
    },
    "id": "cxSVK42QsZxv",
    "outputId": "41fecb61-0530-47fa-fb16-7df765d4209b"
   },
   "outputs": [
    {
     "data": {
      "text/plain": [
       "unknown    36959\n",
       "failure     4901\n",
       "other       1840\n",
       "success     1511\n",
       "Name: poutcome, dtype: int64"
      ]
     },
     "execution_count": 14,
     "metadata": {},
     "output_type": "execute_result"
    }
   ],
   "source": [
    "df['poutcome'].value_counts()"
   ]
  },
  {
   "cell_type": "code",
   "execution_count": 15,
   "metadata": {
    "colab": {
     "base_uri": "https://localhost:8080/"
    },
    "executionInfo": {
     "elapsed": 227,
     "status": "ok",
     "timestamp": 1639199099414,
     "user": {
      "displayName": "Yoga Arif Prasetyo",
      "photoUrl": "https://lh3.googleusercontent.com/a-/AOh14GhIHOM0hjk81qSnAXjHjjE0vY0QrFxbyiwTGmPySw=s64",
      "userId": "08915794686434457753"
     },
     "user_tz": -420
    },
    "id": "BlvFUNptsZxw",
    "outputId": "3746b651-ed22-4581-efba-61136a3fd7e6"
   },
   "outputs": [
    {
     "data": {
      "text/plain": [
       "no     39922\n",
       "yes     5289\n",
       "Name: y, dtype: int64"
      ]
     },
     "execution_count": 15,
     "metadata": {},
     "output_type": "execute_result"
    }
   ],
   "source": [
    "df['y'].value_counts()"
   ]
  },
  {
   "cell_type": "markdown",
   "metadata": {
    "id": "KRTfuCBEsZxw"
   },
   "source": [
    "# Data Preparation"
   ]
  },
  {
   "cell_type": "code",
   "execution_count": 16,
   "metadata": {
    "colab": {
     "base_uri": "https://localhost:8080/"
    },
    "executionInfo": {
     "elapsed": 194,
     "status": "ok",
     "timestamp": 1639199099414,
     "user": {
      "displayName": "Yoga Arif Prasetyo",
      "photoUrl": "https://lh3.googleusercontent.com/a-/AOh14GhIHOM0hjk81qSnAXjHjjE0vY0QrFxbyiwTGmPySw=s64",
      "userId": "08915794686434457753"
     },
     "user_tz": -420
    },
    "id": "jWWErR67sZxx",
    "outputId": "6def63e6-601a-4d61-d797-5294214dbf44"
   },
   "outputs": [
    {
     "name": "stdout",
     "output_type": "stream",
     "text": [
      "Total Row 45211  ,Total Feature 17 \n",
      "\n"
     ]
    }
   ],
   "source": [
    "print('Total Row', df.shape[0], ' ,Total Feature', df.shape[1],'\\n')"
   ]
  },
  {
   "cell_type": "markdown",
   "metadata": {
    "id": "p17QAyU1sZxy"
   },
   "source": [
    "## Missing Value"
   ]
  },
  {
   "cell_type": "code",
   "execution_count": 17,
   "metadata": {
    "colab": {
     "base_uri": "https://localhost:8080/",
     "height": 582
    },
    "executionInfo": {
     "elapsed": 168,
     "status": "ok",
     "timestamp": 1639199099416,
     "user": {
      "displayName": "Yoga Arif Prasetyo",
      "photoUrl": "https://lh3.googleusercontent.com/a-/AOh14GhIHOM0hjk81qSnAXjHjjE0vY0QrFxbyiwTGmPySw=s64",
      "userId": "08915794686434457753"
     },
     "user_tz": -420
    },
    "id": "PzH2y1LUsZxy",
    "outputId": "74b91015-6a94-44b4-bf3f-7231ac5f2f08"
   },
   "outputs": [
    {
     "data": {
      "text/html": [
       "<div>\n",
       "<style scoped>\n",
       "    .dataframe tbody tr th:only-of-type {\n",
       "        vertical-align: middle;\n",
       "    }\n",
       "\n",
       "    .dataframe tbody tr th {\n",
       "        vertical-align: top;\n",
       "    }\n",
       "\n",
       "    .dataframe thead th {\n",
       "        text-align: right;\n",
       "    }\n",
       "</style>\n",
       "<table border=\"1\" class=\"dataframe\">\n",
       "  <thead>\n",
       "    <tr style=\"text-align: right;\">\n",
       "      <th></th>\n",
       "      <th>feature</th>\n",
       "      <th>missing_value</th>\n",
       "    </tr>\n",
       "  </thead>\n",
       "  <tbody>\n",
       "    <tr>\n",
       "      <th>0</th>\n",
       "      <td>age</td>\n",
       "      <td>0</td>\n",
       "    </tr>\n",
       "    <tr>\n",
       "      <th>1</th>\n",
       "      <td>job</td>\n",
       "      <td>0</td>\n",
       "    </tr>\n",
       "    <tr>\n",
       "      <th>2</th>\n",
       "      <td>marital</td>\n",
       "      <td>0</td>\n",
       "    </tr>\n",
       "    <tr>\n",
       "      <th>3</th>\n",
       "      <td>education</td>\n",
       "      <td>0</td>\n",
       "    </tr>\n",
       "    <tr>\n",
       "      <th>4</th>\n",
       "      <td>default</td>\n",
       "      <td>0</td>\n",
       "    </tr>\n",
       "    <tr>\n",
       "      <th>5</th>\n",
       "      <td>balance</td>\n",
       "      <td>0</td>\n",
       "    </tr>\n",
       "    <tr>\n",
       "      <th>6</th>\n",
       "      <td>housing</td>\n",
       "      <td>0</td>\n",
       "    </tr>\n",
       "    <tr>\n",
       "      <th>7</th>\n",
       "      <td>loan</td>\n",
       "      <td>0</td>\n",
       "    </tr>\n",
       "    <tr>\n",
       "      <th>8</th>\n",
       "      <td>contact</td>\n",
       "      <td>0</td>\n",
       "    </tr>\n",
       "    <tr>\n",
       "      <th>9</th>\n",
       "      <td>day</td>\n",
       "      <td>0</td>\n",
       "    </tr>\n",
       "    <tr>\n",
       "      <th>10</th>\n",
       "      <td>month</td>\n",
       "      <td>0</td>\n",
       "    </tr>\n",
       "    <tr>\n",
       "      <th>11</th>\n",
       "      <td>duration</td>\n",
       "      <td>0</td>\n",
       "    </tr>\n",
       "    <tr>\n",
       "      <th>12</th>\n",
       "      <td>campaign</td>\n",
       "      <td>0</td>\n",
       "    </tr>\n",
       "    <tr>\n",
       "      <th>13</th>\n",
       "      <td>pdays</td>\n",
       "      <td>0</td>\n",
       "    </tr>\n",
       "    <tr>\n",
       "      <th>14</th>\n",
       "      <td>previous</td>\n",
       "      <td>0</td>\n",
       "    </tr>\n",
       "    <tr>\n",
       "      <th>15</th>\n",
       "      <td>poutcome</td>\n",
       "      <td>0</td>\n",
       "    </tr>\n",
       "    <tr>\n",
       "      <th>16</th>\n",
       "      <td>y</td>\n",
       "      <td>0</td>\n",
       "    </tr>\n",
       "  </tbody>\n",
       "</table>\n",
       "</div>"
      ],
      "text/plain": [
       "      feature  missing_value\n",
       "0         age              0\n",
       "1         job              0\n",
       "2     marital              0\n",
       "3   education              0\n",
       "4     default              0\n",
       "5     balance              0\n",
       "6     housing              0\n",
       "7        loan              0\n",
       "8     contact              0\n",
       "9         day              0\n",
       "10      month              0\n",
       "11   duration              0\n",
       "12   campaign              0\n",
       "13      pdays              0\n",
       "14   previous              0\n",
       "15   poutcome              0\n",
       "16          y              0"
      ]
     },
     "execution_count": 17,
     "metadata": {},
     "output_type": "execute_result"
    }
   ],
   "source": [
    "data_missing_value = df.isnull().sum().reset_index()\n",
    "data_missing_value.columns = ['feature','missing_value']\n",
    "data_missing_value"
   ]
  },
  {
   "cell_type": "markdown",
   "metadata": {
    "id": "Uh3rgfuDsZxy"
   },
   "source": [
    "**Tidak ada missing value**"
   ]
  },
  {
   "cell_type": "markdown",
   "metadata": {
    "id": "IGTW4SgBsZxz"
   },
   "source": [
    "## Duplicated Data"
   ]
  },
  {
   "cell_type": "code",
   "execution_count": 18,
   "metadata": {
    "colab": {
     "base_uri": "https://localhost:8080/"
    },
    "executionInfo": {
     "elapsed": 165,
     "status": "ok",
     "timestamp": 1639199099416,
     "user": {
      "displayName": "Yoga Arif Prasetyo",
      "photoUrl": "https://lh3.googleusercontent.com/a-/AOh14GhIHOM0hjk81qSnAXjHjjE0vY0QrFxbyiwTGmPySw=s64",
      "userId": "08915794686434457753"
     },
     "user_tz": -420
    },
    "id": "AXmmEp5esZxz",
    "outputId": "cf744764-92ee-4706-c181-a6475e3596c6"
   },
   "outputs": [
    {
     "data": {
      "text/plain": [
       "False    45211\n",
       "dtype: int64"
      ]
     },
     "execution_count": 18,
     "metadata": {},
     "output_type": "execute_result"
    }
   ],
   "source": [
    "df.duplicated().value_counts()"
   ]
  },
  {
   "cell_type": "code",
   "execution_count": 19,
   "metadata": {
    "colab": {
     "base_uri": "https://localhost:8080/"
    },
    "executionInfo": {
     "elapsed": 125,
     "status": "ok",
     "timestamp": 1639199099418,
     "user": {
      "displayName": "Yoga Arif Prasetyo",
      "photoUrl": "https://lh3.googleusercontent.com/a-/AOh14GhIHOM0hjk81qSnAXjHjjE0vY0QrFxbyiwTGmPySw=s64",
      "userId": "08915794686434457753"
     },
     "user_tz": -420
    },
    "id": "es9Wg1WQsZx0",
    "outputId": "94d7a422-7676-4c9e-c4d3-c3834c2ee8ec"
   },
   "outputs": [
    {
     "data": {
      "text/plain": [
       "False"
      ]
     },
     "execution_count": 19,
     "metadata": {},
     "output_type": "execute_result"
    }
   ],
   "source": [
    "df.duplicated(subset= ['age','job','marital','education','default','balance','housing','loan', 'contact', 'day', 'month', 'duration', 'campaign', 'pdays','previous', 'poutcome']).any()"
   ]
  },
  {
   "cell_type": "markdown",
   "metadata": {
    "id": "BaD2JhYasZx0"
   },
   "source": [
    "**Tidak ada data duplicate**"
   ]
  },
  {
   "cell_type": "markdown",
   "metadata": {
    "id": "3zS7dR2asZx0"
   },
   "source": [
    "## Outlier"
   ]
  },
  {
   "cell_type": "code",
   "execution_count": 20,
   "metadata": {
    "colab": {
     "base_uri": "https://localhost:8080/",
     "height": 297
    },
    "executionInfo": {
     "elapsed": 822,
     "status": "ok",
     "timestamp": 1639199100142,
     "user": {
      "displayName": "Yoga Arif Prasetyo",
      "photoUrl": "https://lh3.googleusercontent.com/a-/AOh14GhIHOM0hjk81qSnAXjHjjE0vY0QrFxbyiwTGmPySw=s64",
      "userId": "08915794686434457753"
     },
     "user_tz": -420
    },
    "id": "2ofqhh0esZx0",
    "outputId": "9156312f-caf7-4865-eb9f-36757b27a7db"
   },
   "outputs": [
    {
     "data": {
      "image/png": "[encoded data removed]",
      "text/plain": [
       "<Figure size 864x288 with 7 Axes>"
      ]
     },
     "metadata": {
      "needs_background": "light"
     },
     "output_type": "display_data"
    }
   ],
   "source": [
    "for i in range(0, len(numericals)):\n",
    "    plt.subplot(1, len(numericals), i+1)\n",
    "    sns.boxplot(y=df[numericals[i]], color='green', orient='v')\n",
    "    plt.tight_layout()"
   ]
  },
  {
   "cell_type": "markdown",
   "metadata": {
    "id": "2yYE79eDsZx0"
   },
   "source": [
    "**Dilihat dari Dataset ini, outlier akan dibiarkan saja karena data memang bervariasi**"
   ]
  },
  {
   "cell_type": "markdown",
   "metadata": {
    "id": "uk1Z-5S9sZx1"
   },
   "source": [
    "## Feature Engineering"
   ]
  },
  {
   "cell_type": "markdown",
   "metadata": {
    "id": "jg8c79fasZx1"
   },
   "source": [
    "### Cost (from Duration)"
   ]
  },
  {
   "cell_type": "code",
   "execution_count": 21,
   "metadata": {
    "id": "rC2yflVmsZx1"
   },
   "outputs": [],
   "source": [
    "df['cost'] = df['duration']*0.01"
   ]
  },
  {
   "cell_type": "markdown",
   "metadata": {
    "id": "fQB527LtsZx1"
   },
   "source": [
    "### Job"
   ]
  },
  {
   "cell_type": "code",
   "execution_count": 22,
   "metadata": {
    "id": "liXTL-lTsZx1"
   },
   "outputs": [],
   "source": [
    "##Grouping Jenis Pekerjaan menjadi 7 kelompok\n",
    "list_jobgroup = []\n",
    "\n",
    "for i, x in df.iterrows():\n",
    "    if x['job'] == 'management':\n",
    "        jobgroup = 'employee'\n",
    "    elif x['job'] == 'technician':\n",
    "        jobgroup = 'employee'\n",
    "    elif x['job'] == 'admin.':\n",
    "        jobgroup = 'employee'\n",
    "    elif x['job'] == 'services':\n",
    "        jobgroup = 'employee'      \n",
    "    elif x['job'] == 'blue-collar':\n",
    "        jobgroup = 'manual labor'\n",
    "    elif x['job'] == 'housemaid':\n",
    "        jobgroup = 'manual labor'\n",
    "    elif x['job'] == 'self-employed':\n",
    "        jobgroup = 'self-employed'\n",
    "    elif x['job'] == 'entrepreneur':\n",
    "        jobgroup = 'self-employed'\n",
    "    elif x['job'] == 'retired':\n",
    "        jobgroup = 'retired'\n",
    "    elif x['job'] == 'student':\n",
    "        jobgroup = 'student'\n",
    "    elif x['job'] == 'unemployed':\n",
    "        jobgroup = 'unemployed'\n",
    "    else:\n",
    "        jobgroup = 'unknown'\n",
    "    list_jobgroup.append(jobgroup)\n",
    "\n",
    "df['job_group'] = list_jobgroup"
   ]
  },
  {
   "cell_type": "markdown",
   "metadata": {
    "id": "hVJ2Smt4sZx2"
   },
   "source": [
    "### Balance"
   ]
  },
  {
   "cell_type": "code",
   "execution_count": 23,
   "metadata": {
    "colab": {
     "base_uri": "https://localhost:8080/"
    },
    "executionInfo": {
     "elapsed": 15,
     "status": "ok",
     "timestamp": 1639199103886,
     "user": {
      "displayName": "Yoga Arif Prasetyo",
      "photoUrl": "https://lh3.googleusercontent.com/a-/AOh14GhIHOM0hjk81qSnAXjHjjE0vY0QrFxbyiwTGmPySw=s64",
      "userId": "08915794686434457753"
     },
     "user_tz": -420
    },
    "id": "DGkJNOygVS0G",
    "outputId": "79e56ab6-5df5-42ee-9ea6-8d4b39dd7f8d"
   },
   "outputs": [
    {
     "data": {
      "text/plain": [
       "count     45211.000000\n",
       "mean       1362.272058\n",
       "std        3044.765829\n",
       "min       -8019.000000\n",
       "25%          72.000000\n",
       "50%         448.000000\n",
       "75%        1428.000000\n",
       "max      102127.000000\n",
       "Name: balance, dtype: float64"
      ]
     },
     "execution_count": 23,
     "metadata": {},
     "output_type": "execute_result"
    }
   ],
   "source": [
    "df['balance'].describe()"
   ]
  },
  {
   "cell_type": "code",
   "execution_count": 24,
   "metadata": {
    "colab": {
     "base_uri": "https://localhost:8080/",
     "height": 283
    },
    "executionInfo": {
     "elapsed": 13,
     "status": "ok",
     "timestamp": 1639199103888,
     "user": {
      "displayName": "Yoga Arif Prasetyo",
      "photoUrl": "https://lh3.googleusercontent.com/a-/AOh14GhIHOM0hjk81qSnAXjHjjE0vY0QrFxbyiwTGmPySw=s64",
      "userId": "08915794686434457753"
     },
     "user_tz": -420
    },
    "id": "Ex_wdFjDVcZy",
    "outputId": "24ab2069-2552-4daa-cfa6-59fb2f145a41"
   },
   "outputs": [
    {
     "data": {
      "image/png": "[encoded data removed]",
      "text/plain": [
       "<Figure size 864x288 with 1 Axes>"
      ]
     },
     "metadata": {
      "needs_background": "light"
     },
     "output_type": "display_data"
    }
   ],
   "source": [
    "ax = sns.boxplot(x=\"balance\", data=df)"
   ]
  },
  {
   "cell_type": "code",
   "execution_count": 25,
   "metadata": {
    "id": "CvyRuQ8kVZsj"
   },
   "outputs": [],
   "source": [
    "list_balgroup = []\n",
    "\n",
    "for i, x in df.iterrows():\n",
    "    if x['balance'] <= 0 :\n",
    "        balgroup = '<= 0'\n",
    "    elif x['balance'] >=1 and x['balance'] <= 286 :\n",
    "        balgroup = '1 - 286'    \n",
    "    elif x['balance'] >=287 and x['balance'] <= 572 :\n",
    "        balgroup = '287 - 572'    \n",
    "    elif x['balance'] >=573 and x['balance'] <= 857 :\n",
    "        balgroup = '573 - 857'    \n",
    "    elif x['balance'] >=858 and x['balance'] <= 1142 :\n",
    "        balgroup = '858 - 1142'        \n",
    "    elif x['balance'] >=1143 and x['balance'] <= 1427 :\n",
    "        balgroup = '1143 - 1427'   \n",
    "    elif x['balance'] >= 1428   :\n",
    "        balgroup = '>= 1428'\n",
    "        \n",
    "        \n",
    "    else:\n",
    "        balgroup = 'unknown'\n",
    "    list_balgroup.append(balgroup)\n",
    "\n",
    "df['balgroup'] = list_balgroup"
   ]
  },
  {
   "cell_type": "markdown",
   "metadata": {
    "id": "8F1OU4VjWDb7"
   },
   "source": [
    "Dilakukan feature engineering untuk menambahkan range untuk kolom balance dengan range sebagai berikut : <br>\n",
    "<= 0<br>\n",
    "1 - 286<br>\n",
    "287 - 572<br>\n",
    "573 - 857<br>858 - 1142<br>\n",
    "1143 - 1427\n",
    "<br>>= 1428<br>"
   ]
  },
  {
   "cell_type": "code",
   "execution_count": 26,
   "metadata": {
    "id": "NfDKP4Bn31rw"
   },
   "outputs": [],
   "source": [
    "list_agegroup = []\n",
    "\n",
    "for i, x in df.iterrows():\n",
    "    if x['age'] >= 18 and x['age'] <= 33:\n",
    "        agegroup = '18 - 33'\n",
    "    elif x['age'] >= 34 and x['age'] <= 49:\n",
    "        agegroup = '34 - 49'\n",
    "    elif x['age'] >= 50 and x['age'] <= 65:\n",
    "        agegroup = '50 - 65'\n",
    "    elif x['age'] >= 66 and x['age'] <= 81:\n",
    "        agegroup = '66 - 81'      \n",
    "    elif x['age'] >= 82 and x['age'] <= 97:\n",
    "        agegroup = '82 - 97'\n",
    "\n",
    "    list_agegroup.append(agegroup)\n",
    "\n",
    "df['age_group'] = list_agegroup"
   ]
  },
  {
   "cell_type": "code",
   "execution_count": 27,
   "metadata": {
    "executionInfo": {
     "elapsed": 454,
     "status": "ok",
     "timestamp": 1639621717658,
     "user": {
      "displayName": "Hans Halwi",
      "photoUrl": "https://lh3.googleusercontent.com/a/default-user=s64",
      "userId": "09772554882127127798"
     },
     "user_tz": -420
    },
    "id": "LvIS-WDjsZx3"
   },
   "outputs": [],
   "source": [
    "data_visual = df.copy()\n",
    "df_model = df.copy()"
   ]
  },
  {
   "cell_type": "markdown",
   "metadata": {
    "id": "LqlFn01msZx3"
   },
   "source": [
    "### Label Encoding"
   ]
  },
  {
   "cell_type": "code",
   "execution_count": 28,
   "metadata": {
    "id": "darBJyYhsZx3"
   },
   "outputs": [],
   "source": [
    "df_model['default'].replace('no', 0, inplace = True)\n",
    "df_model['default'].replace('yes', 1, inplace = True)\n",
    "df_model['housing'].replace('no', 0, inplace = True)\n",
    "df_model['housing'].replace('yes', 1, inplace = True)\n",
    "df_model['loan'].replace('no', 0, inplace = True)\n",
    "df_model['loan'].replace('yes', 1, inplace = True)\n",
    "df_model['y'].replace('no', 0, inplace = True)\n",
    "df_model['y'].replace('yes', 1, inplace = True)"
   ]
  },
  {
   "cell_type": "markdown",
   "metadata": {
    "id": "SEhHavGPsZx4"
   },
   "source": [
    "### Handling Unknown Data (Job & Education)"
   ]
  },
  {
   "cell_type": "code",
   "execution_count": 29,
   "metadata": {
    "id": "QJF6zonCsZx4"
   },
   "outputs": [],
   "source": [
    "df_model['job_group'].replace(['unknown'],df_model['job_group'].mode(),inplace = True)\n",
    "df_model['education'].replace(['unknown'],df_model['education'].mode(),inplace = True)"
   ]
  },
  {
   "cell_type": "markdown",
   "metadata": {
    "id": "NLSBm9SjsZx4"
   },
   "source": [
    "### OHE"
   ]
  },
  {
   "cell_type": "code",
   "execution_count": 30,
   "metadata": {
    "colab": {
     "base_uri": "https://localhost:8080/",
     "height": 261
    },
    "executionInfo": {
     "elapsed": 65,
     "status": "ok",
     "timestamp": 1639199113366,
     "user": {
      "displayName": "Yoga Arif Prasetyo",
      "photoUrl": "https://lh3.googleusercontent.com/a-/AOh14GhIHOM0hjk81qSnAXjHjjE0vY0QrFxbyiwTGmPySw=s64",
      "userId": "08915794686434457753"
     },
     "user_tz": -420
    },
    "id": "yaqJ-z0usZx4",
    "outputId": "39a4eb19-10bf-4b8c-9e52-b4629e5c3bb3"
   },
   "outputs": [
    {
     "data": {
      "text/html": [
       "<div>\n",
       "<style scoped>\n",
       "    .dataframe tbody tr th:only-of-type {\n",
       "        vertical-align: middle;\n",
       "    }\n",
       "\n",
       "    .dataframe tbody tr th {\n",
       "        vertical-align: top;\n",
       "    }\n",
       "\n",
       "    .dataframe thead th {\n",
       "        text-align: right;\n",
       "    }\n",
       "</style>\n",
       "<table border=\"1\" class=\"dataframe\">\n",
       "  <thead>\n",
       "    <tr style=\"text-align: right;\">\n",
       "      <th></th>\n",
       "      <th>age</th>\n",
       "      <th>job</th>\n",
       "      <th>marital</th>\n",
       "      <th>education</th>\n",
       "      <th>default</th>\n",
       "      <th>balance</th>\n",
       "      <th>housing</th>\n",
       "      <th>loan</th>\n",
       "      <th>contact</th>\n",
       "      <th>day</th>\n",
       "      <th>...</th>\n",
       "      <th>education_primary</th>\n",
       "      <th>education_secondary</th>\n",
       "      <th>education_tertiary</th>\n",
       "      <th>contact_cellular</th>\n",
       "      <th>contact_telephone</th>\n",
       "      <th>contact_unknown</th>\n",
       "      <th>poutcome_failure</th>\n",
       "      <th>poutcome_other</th>\n",
       "      <th>poutcome_success</th>\n",
       "      <th>poutcome_unknown</th>\n",
       "    </tr>\n",
       "  </thead>\n",
       "  <tbody>\n",
       "    <tr>\n",
       "      <th>3776</th>\n",
       "      <td>40</td>\n",
       "      <td>blue-collar</td>\n",
       "      <td>married</td>\n",
       "      <td>secondary</td>\n",
       "      <td>0</td>\n",
       "      <td>580</td>\n",
       "      <td>1</td>\n",
       "      <td>0</td>\n",
       "      <td>unknown</td>\n",
       "      <td>16</td>\n",
       "      <td>...</td>\n",
       "      <td>0</td>\n",
       "      <td>1</td>\n",
       "      <td>0</td>\n",
       "      <td>0</td>\n",
       "      <td>0</td>\n",
       "      <td>1</td>\n",
       "      <td>0</td>\n",
       "      <td>0</td>\n",
       "      <td>0</td>\n",
       "      <td>1</td>\n",
       "    </tr>\n",
       "    <tr>\n",
       "      <th>9928</th>\n",
       "      <td>47</td>\n",
       "      <td>services</td>\n",
       "      <td>single</td>\n",
       "      <td>secondary</td>\n",
       "      <td>0</td>\n",
       "      <td>3644</td>\n",
       "      <td>0</td>\n",
       "      <td>0</td>\n",
       "      <td>unknown</td>\n",
       "      <td>9</td>\n",
       "      <td>...</td>\n",
       "      <td>0</td>\n",
       "      <td>1</td>\n",
       "      <td>0</td>\n",
       "      <td>0</td>\n",
       "      <td>0</td>\n",
       "      <td>1</td>\n",
       "      <td>0</td>\n",
       "      <td>0</td>\n",
       "      <td>0</td>\n",
       "      <td>1</td>\n",
       "    </tr>\n",
       "    <tr>\n",
       "      <th>33409</th>\n",
       "      <td>25</td>\n",
       "      <td>student</td>\n",
       "      <td>single</td>\n",
       "      <td>tertiary</td>\n",
       "      <td>0</td>\n",
       "      <td>538</td>\n",
       "      <td>1</td>\n",
       "      <td>0</td>\n",
       "      <td>cellular</td>\n",
       "      <td>20</td>\n",
       "      <td>...</td>\n",
       "      <td>0</td>\n",
       "      <td>0</td>\n",
       "      <td>1</td>\n",
       "      <td>1</td>\n",
       "      <td>0</td>\n",
       "      <td>0</td>\n",
       "      <td>0</td>\n",
       "      <td>0</td>\n",
       "      <td>0</td>\n",
       "      <td>1</td>\n",
       "    </tr>\n",
       "    <tr>\n",
       "      <th>31885</th>\n",
       "      <td>42</td>\n",
       "      <td>management</td>\n",
       "      <td>married</td>\n",
       "      <td>tertiary</td>\n",
       "      <td>0</td>\n",
       "      <td>1773</td>\n",
       "      <td>0</td>\n",
       "      <td>0</td>\n",
       "      <td>cellular</td>\n",
       "      <td>9</td>\n",
       "      <td>...</td>\n",
       "      <td>0</td>\n",
       "      <td>0</td>\n",
       "      <td>1</td>\n",
       "      <td>1</td>\n",
       "      <td>0</td>\n",
       "      <td>0</td>\n",
       "      <td>1</td>\n",
       "      <td>0</td>\n",
       "      <td>0</td>\n",
       "      <td>0</td>\n",
       "    </tr>\n",
       "    <tr>\n",
       "      <th>15738</th>\n",
       "      <td>56</td>\n",
       "      <td>management</td>\n",
       "      <td>married</td>\n",
       "      <td>tertiary</td>\n",
       "      <td>0</td>\n",
       "      <td>217</td>\n",
       "      <td>0</td>\n",
       "      <td>1</td>\n",
       "      <td>cellular</td>\n",
       "      <td>21</td>\n",
       "      <td>...</td>\n",
       "      <td>0</td>\n",
       "      <td>0</td>\n",
       "      <td>1</td>\n",
       "      <td>1</td>\n",
       "      <td>0</td>\n",
       "      <td>0</td>\n",
       "      <td>0</td>\n",
       "      <td>0</td>\n",
       "      <td>0</td>\n",
       "      <td>1</td>\n",
       "    </tr>\n",
       "  </tbody>\n",
       "</table>\n",
       "<p>5 rows × 40 columns</p>\n",
       "</div>"
      ],
      "text/plain": [
       "       age          job  marital  education  default  balance  housing  loan  \\\n",
       "3776    40  blue-collar  married  secondary        0      580        1     0   \n",
       "9928    47     services   single  secondary        0     3644        0     0   \n",
       "33409   25      student   single   tertiary        0      538        1     0   \n",
       "31885   42   management  married   tertiary        0     1773        0     0   \n",
       "15738   56   management  married   tertiary        0      217        0     1   \n",
       "\n",
       "        contact  day  ... education_primary  education_secondary  \\\n",
       "3776    unknown   16  ...                 0                    1   \n",
       "9928    unknown    9  ...                 0                    1   \n",
       "33409  cellular   20  ...                 0                    0   \n",
       "31885  cellular    9  ...                 0                    0   \n",
       "15738  cellular   21  ...                 0                    0   \n",
       "\n",
       "       education_tertiary  contact_cellular  contact_telephone  \\\n",
       "3776                    0                 0                  0   \n",
       "9928                    0                 0                  0   \n",
       "33409                   1                 1                  0   \n",
       "31885                   1                 1                  0   \n",
       "15738                   1                 1                  0   \n",
       "\n",
       "      contact_unknown  poutcome_failure  poutcome_other poutcome_success  \\\n",
       "3776                1                 0               0                0   \n",
       "9928                1                 0               0                0   \n",
       "33409               0                 0               0                0   \n",
       "31885               0                 1               0                0   \n",
       "15738               0                 0               0                0   \n",
       "\n",
       "      poutcome_unknown  \n",
       "3776                 1  \n",
       "9928                 1  \n",
       "33409                1  \n",
       "31885                0  \n",
       "15738                1  \n",
       "\n",
       "[5 rows x 40 columns]"
      ]
     },
     "execution_count": 30,
     "metadata": {},
     "output_type": "execute_result"
    }
   ],
   "source": [
    "cats_oh = ['job_group','marital','education','contact','poutcome']\n",
    "for cat in cats_oh:\n",
    "    onehots = pd.get_dummies(df_model[cat], prefix=cat)\n",
    "    df_model = df_model.join(onehots)\n",
    "    \n",
    "df_model.sample(5,random_state=42)"
   ]
  },
  {
   "cell_type": "markdown",
   "metadata": {
    "id": "xZINHpfGsZx4"
   },
   "source": [
    "### Remove Features"
   ]
  },
  {
   "cell_type": "code",
   "execution_count": 31,
   "metadata": {
    "colab": {
     "base_uri": "https://localhost:8080/",
     "height": 435
    },
    "executionInfo": {
     "elapsed": 1117,
     "status": "ok",
     "timestamp": 1639199114425,
     "user": {
      "displayName": "Yoga Arif Prasetyo",
      "photoUrl": "https://lh3.googleusercontent.com/a-/AOh14GhIHOM0hjk81qSnAXjHjjE0vY0QrFxbyiwTGmPySw=s64",
      "userId": "08915794686434457753"
     },
     "user_tz": -420
    },
    "id": "NmPi1EFBsZx4",
    "outputId": "0e8b78aa-6646-4c1f-f179-2c5146a15392"
   },
   "outputs": [
    {
     "data": {
      "text/html": [
       "<div>\n",
       "<style scoped>\n",
       "    .dataframe tbody tr th:only-of-type {\n",
       "        vertical-align: middle;\n",
       "    }\n",
       "\n",
       "    .dataframe tbody tr th {\n",
       "        vertical-align: top;\n",
       "    }\n",
       "\n",
       "    .dataframe thead th {\n",
       "        text-align: right;\n",
       "    }\n",
       "</style>\n",
       "<table border=\"1\" class=\"dataframe\">\n",
       "  <thead>\n",
       "    <tr style=\"text-align: right;\">\n",
       "      <th></th>\n",
       "      <th>age</th>\n",
       "      <th>job</th>\n",
       "      <th>default</th>\n",
       "      <th>balance</th>\n",
       "      <th>housing</th>\n",
       "      <th>loan</th>\n",
       "      <th>day</th>\n",
       "      <th>month</th>\n",
       "      <th>duration</th>\n",
       "      <th>campaign</th>\n",
       "      <th>...</th>\n",
       "      <th>education_primary</th>\n",
       "      <th>education_secondary</th>\n",
       "      <th>education_tertiary</th>\n",
       "      <th>contact_cellular</th>\n",
       "      <th>contact_telephone</th>\n",
       "      <th>contact_unknown</th>\n",
       "      <th>poutcome_failure</th>\n",
       "      <th>poutcome_other</th>\n",
       "      <th>poutcome_success</th>\n",
       "      <th>poutcome_unknown</th>\n",
       "    </tr>\n",
       "  </thead>\n",
       "  <tbody>\n",
       "    <tr>\n",
       "      <th>3776</th>\n",
       "      <td>40</td>\n",
       "      <td>blue-collar</td>\n",
       "      <td>0</td>\n",
       "      <td>580</td>\n",
       "      <td>1</td>\n",
       "      <td>0</td>\n",
       "      <td>16</td>\n",
       "      <td>may</td>\n",
       "      <td>192</td>\n",
       "      <td>1</td>\n",
       "      <td>...</td>\n",
       "      <td>0</td>\n",
       "      <td>1</td>\n",
       "      <td>0</td>\n",
       "      <td>0</td>\n",
       "      <td>0</td>\n",
       "      <td>1</td>\n",
       "      <td>0</td>\n",
       "      <td>0</td>\n",
       "      <td>0</td>\n",
       "      <td>1</td>\n",
       "    </tr>\n",
       "    <tr>\n",
       "      <th>9928</th>\n",
       "      <td>47</td>\n",
       "      <td>services</td>\n",
       "      <td>0</td>\n",
       "      <td>3644</td>\n",
       "      <td>0</td>\n",
       "      <td>0</td>\n",
       "      <td>9</td>\n",
       "      <td>jun</td>\n",
       "      <td>83</td>\n",
       "      <td>2</td>\n",
       "      <td>...</td>\n",
       "      <td>0</td>\n",
       "      <td>1</td>\n",
       "      <td>0</td>\n",
       "      <td>0</td>\n",
       "      <td>0</td>\n",
       "      <td>1</td>\n",
       "      <td>0</td>\n",
       "      <td>0</td>\n",
       "      <td>0</td>\n",
       "      <td>1</td>\n",
       "    </tr>\n",
       "    <tr>\n",
       "      <th>33409</th>\n",
       "      <td>25</td>\n",
       "      <td>student</td>\n",
       "      <td>0</td>\n",
       "      <td>538</td>\n",
       "      <td>1</td>\n",
       "      <td>0</td>\n",
       "      <td>20</td>\n",
       "      <td>apr</td>\n",
       "      <td>226</td>\n",
       "      <td>1</td>\n",
       "      <td>...</td>\n",
       "      <td>0</td>\n",
       "      <td>0</td>\n",
       "      <td>1</td>\n",
       "      <td>1</td>\n",
       "      <td>0</td>\n",
       "      <td>0</td>\n",
       "      <td>0</td>\n",
       "      <td>0</td>\n",
       "      <td>0</td>\n",
       "      <td>1</td>\n",
       "    </tr>\n",
       "    <tr>\n",
       "      <th>31885</th>\n",
       "      <td>42</td>\n",
       "      <td>management</td>\n",
       "      <td>0</td>\n",
       "      <td>1773</td>\n",
       "      <td>0</td>\n",
       "      <td>0</td>\n",
       "      <td>9</td>\n",
       "      <td>apr</td>\n",
       "      <td>311</td>\n",
       "      <td>1</td>\n",
       "      <td>...</td>\n",
       "      <td>0</td>\n",
       "      <td>0</td>\n",
       "      <td>1</td>\n",
       "      <td>1</td>\n",
       "      <td>0</td>\n",
       "      <td>0</td>\n",
       "      <td>1</td>\n",
       "      <td>0</td>\n",
       "      <td>0</td>\n",
       "      <td>0</td>\n",
       "    </tr>\n",
       "    <tr>\n",
       "      <th>15738</th>\n",
       "      <td>56</td>\n",
       "      <td>management</td>\n",
       "      <td>0</td>\n",
       "      <td>217</td>\n",
       "      <td>0</td>\n",
       "      <td>1</td>\n",
       "      <td>21</td>\n",
       "      <td>jul</td>\n",
       "      <td>121</td>\n",
       "      <td>2</td>\n",
       "      <td>...</td>\n",
       "      <td>0</td>\n",
       "      <td>0</td>\n",
       "      <td>1</td>\n",
       "      <td>1</td>\n",
       "      <td>0</td>\n",
       "      <td>0</td>\n",
       "      <td>0</td>\n",
       "      <td>0</td>\n",
       "      <td>0</td>\n",
       "      <td>1</td>\n",
       "    </tr>\n",
       "    <tr>\n",
       "      <th>30813</th>\n",
       "      <td>28</td>\n",
       "      <td>blue-collar</td>\n",
       "      <td>0</td>\n",
       "      <td>1134</td>\n",
       "      <td>0</td>\n",
       "      <td>0</td>\n",
       "      <td>9</td>\n",
       "      <td>feb</td>\n",
       "      <td>130</td>\n",
       "      <td>3</td>\n",
       "      <td>...</td>\n",
       "      <td>0</td>\n",
       "      <td>1</td>\n",
       "      <td>0</td>\n",
       "      <td>1</td>\n",
       "      <td>0</td>\n",
       "      <td>0</td>\n",
       "      <td>0</td>\n",
       "      <td>0</td>\n",
       "      <td>0</td>\n",
       "      <td>1</td>\n",
       "    </tr>\n",
       "    <tr>\n",
       "      <th>35463</th>\n",
       "      <td>24</td>\n",
       "      <td>management</td>\n",
       "      <td>0</td>\n",
       "      <td>1085</td>\n",
       "      <td>0</td>\n",
       "      <td>1</td>\n",
       "      <td>7</td>\n",
       "      <td>may</td>\n",
       "      <td>95</td>\n",
       "      <td>6</td>\n",
       "      <td>...</td>\n",
       "      <td>0</td>\n",
       "      <td>0</td>\n",
       "      <td>1</td>\n",
       "      <td>1</td>\n",
       "      <td>0</td>\n",
       "      <td>0</td>\n",
       "      <td>0</td>\n",
       "      <td>0</td>\n",
       "      <td>0</td>\n",
       "      <td>1</td>\n",
       "    </tr>\n",
       "    <tr>\n",
       "      <th>31382</th>\n",
       "      <td>37</td>\n",
       "      <td>admin.</td>\n",
       "      <td>0</td>\n",
       "      <td>127</td>\n",
       "      <td>0</td>\n",
       "      <td>0</td>\n",
       "      <td>23</td>\n",
       "      <td>mar</td>\n",
       "      <td>83</td>\n",
       "      <td>4</td>\n",
       "      <td>...</td>\n",
       "      <td>0</td>\n",
       "      <td>1</td>\n",
       "      <td>0</td>\n",
       "      <td>1</td>\n",
       "      <td>0</td>\n",
       "      <td>0</td>\n",
       "      <td>0</td>\n",
       "      <td>0</td>\n",
       "      <td>0</td>\n",
       "      <td>1</td>\n",
       "    </tr>\n",
       "    <tr>\n",
       "      <th>16904</th>\n",
       "      <td>30</td>\n",
       "      <td>blue-collar</td>\n",
       "      <td>0</td>\n",
       "      <td>3</td>\n",
       "      <td>1</td>\n",
       "      <td>0</td>\n",
       "      <td>25</td>\n",
       "      <td>jul</td>\n",
       "      <td>51</td>\n",
       "      <td>1</td>\n",
       "      <td>...</td>\n",
       "      <td>0</td>\n",
       "      <td>1</td>\n",
       "      <td>0</td>\n",
       "      <td>1</td>\n",
       "      <td>0</td>\n",
       "      <td>0</td>\n",
       "      <td>0</td>\n",
       "      <td>0</td>\n",
       "      <td>0</td>\n",
       "      <td>1</td>\n",
       "    </tr>\n",
       "    <tr>\n",
       "      <th>11930</th>\n",
       "      <td>38</td>\n",
       "      <td>technician</td>\n",
       "      <td>0</td>\n",
       "      <td>258</td>\n",
       "      <td>0</td>\n",
       "      <td>1</td>\n",
       "      <td>20</td>\n",
       "      <td>jun</td>\n",
       "      <td>587</td>\n",
       "      <td>2</td>\n",
       "      <td>...</td>\n",
       "      <td>0</td>\n",
       "      <td>1</td>\n",
       "      <td>0</td>\n",
       "      <td>0</td>\n",
       "      <td>0</td>\n",
       "      <td>1</td>\n",
       "      <td>0</td>\n",
       "      <td>0</td>\n",
       "      <td>0</td>\n",
       "      <td>1</td>\n",
       "    </tr>\n",
       "  </tbody>\n",
       "</table>\n",
       "<p>10 rows × 35 columns</p>\n",
       "</div>"
      ],
      "text/plain": [
       "       age          job  default  balance  housing  loan  day month  duration  \\\n",
       "3776    40  blue-collar        0      580        1     0   16   may       192   \n",
       "9928    47     services        0     3644        0     0    9   jun        83   \n",
       "33409   25      student        0      538        1     0   20   apr       226   \n",
       "31885   42   management        0     1773        0     0    9   apr       311   \n",
       "15738   56   management        0      217        0     1   21   jul       121   \n",
       "30813   28  blue-collar        0     1134        0     0    9   feb       130   \n",
       "35463   24   management        0     1085        0     1    7   may        95   \n",
       "31382   37       admin.        0      127        0     0   23   mar        83   \n",
       "16904   30  blue-collar        0        3        1     0   25   jul        51   \n",
       "11930   38   technician        0      258        0     1   20   jun       587   \n",
       "\n",
       "       campaign  ...  education_primary  education_secondary  \\\n",
       "3776          1  ...                  0                    1   \n",
       "9928          2  ...                  0                    1   \n",
       "33409         1  ...                  0                    0   \n",
       "31885         1  ...                  0                    0   \n",
       "15738         2  ...                  0                    0   \n",
       "30813         3  ...                  0                    1   \n",
       "35463         6  ...                  0                    0   \n",
       "31382         4  ...                  0                    1   \n",
       "16904         1  ...                  0                    1   \n",
       "11930         2  ...                  0                    1   \n",
       "\n",
       "       education_tertiary  contact_cellular contact_telephone contact_unknown  \\\n",
       "3776                    0                 0                 0               1   \n",
       "9928                    0                 0                 0               1   \n",
       "33409                   1                 1                 0               0   \n",
       "31885                   1                 1                 0               0   \n",
       "15738                   1                 1                 0               0   \n",
       "30813                   0                 1                 0               0   \n",
       "35463                   1                 1                 0               0   \n",
       "31382                   0                 1                 0               0   \n",
       "16904                   0                 1                 0               0   \n",
       "11930                   0                 0                 0               1   \n",
       "\n",
       "       poutcome_failure  poutcome_other  poutcome_success  poutcome_unknown  \n",
       "3776                  0               0                 0                 1  \n",
       "9928                  0               0                 0                 1  \n",
       "33409                 0               0                 0                 1  \n",
       "31885                 1               0                 0                 0  \n",
       "15738                 0               0                 0                 1  \n",
       "30813                 0               0                 0                 1  \n",
       "35463                 0               0                 0                 1  \n",
       "31382                 0               0                 0                 1  \n",
       "16904                 0               0                 0                 1  \n",
       "11930                 0               0                 0                 1  \n",
       "\n",
       "[10 rows x 35 columns]"
      ]
     },
     "execution_count": 31,
     "metadata": {},
     "output_type": "execute_result"
    }
   ],
   "source": [
    "df_model.drop(cats_oh, axis=1, inplace=True)\n",
    "df_model.sample(10,random_state=42)"
   ]
  },
  {
   "cell_type": "code",
   "execution_count": 32,
   "metadata": {
    "colab": {
     "base_uri": "https://localhost:8080/"
    },
    "executionInfo": {
     "elapsed": 74,
     "status": "ok",
     "timestamp": 1639199114432,
     "user": {
      "displayName": "Yoga Arif Prasetyo",
      "photoUrl": "https://lh3.googleusercontent.com/a-/AOh14GhIHOM0hjk81qSnAXjHjjE0vY0QrFxbyiwTGmPySw=s64",
      "userId": "08915794686434457753"
     },
     "user_tz": -420
    },
    "id": "kJqjEGZPsZx5",
    "outputId": "b2f4d863-3495-430f-c527-2432880c7c3b"
   },
   "outputs": [
    {
     "data": {
      "text/plain": [
       "Index(['age', 'job', 'default', 'balance', 'housing', 'loan', 'day', 'month',\n",
       "       'duration', 'campaign', 'pdays', 'previous', 'y', 'cost', 'balgroup',\n",
       "       'age_group', 'job_group_employee', 'job_group_manual labor',\n",
       "       'job_group_retired', 'job_group_self-employed', 'job_group_student',\n",
       "       'job_group_unemployed', 'marital_divorced', 'marital_married',\n",
       "       'marital_single', 'education_primary', 'education_secondary',\n",
       "       'education_tertiary', 'contact_cellular', 'contact_telephone',\n",
       "       'contact_unknown', 'poutcome_failure', 'poutcome_other',\n",
       "       'poutcome_success', 'poutcome_unknown'],\n",
       "      dtype='object')"
      ]
     },
     "execution_count": 32,
     "metadata": {},
     "output_type": "execute_result"
    }
   ],
   "source": [
    "df_model.columns"
   ]
  },
  {
   "cell_type": "markdown",
   "metadata": {
    "id": "DHoTjnKPsZx5"
   },
   "source": [
    "## EDA"
   ]
  },
  {
   "cell_type": "code",
   "execution_count": 33,
   "metadata": {
    "colab": {
     "base_uri": "https://localhost:8080/",
     "height": 424
    },
    "executionInfo": {
     "elapsed": 49,
     "status": "ok",
     "timestamp": 1639199114435,
     "user": {
      "displayName": "Yoga Arif Prasetyo",
      "photoUrl": "https://lh3.googleusercontent.com/a-/AOh14GhIHOM0hjk81qSnAXjHjjE0vY0QrFxbyiwTGmPySw=s64",
      "userId": "08915794686434457753"
     },
     "user_tz": -420
    },
    "id": "B8ijElAYsZx5",
    "outputId": "fcbbbae0-58fd-4186-8f7d-8aa165c4a962"
   },
   "outputs": [
    {
     "data": {
      "text/html": [
       "<div>\n",
       "<style scoped>\n",
       "    .dataframe tbody tr th:only-of-type {\n",
       "        vertical-align: middle;\n",
       "    }\n",
       "\n",
       "    .dataframe tbody tr th {\n",
       "        vertical-align: top;\n",
       "    }\n",
       "\n",
       "    .dataframe thead th {\n",
       "        text-align: right;\n",
       "    }\n",
       "</style>\n",
       "<table border=\"1\" class=\"dataframe\">\n",
       "  <thead>\n",
       "    <tr style=\"text-align: right;\">\n",
       "      <th></th>\n",
       "      <th>age</th>\n",
       "      <th>job</th>\n",
       "      <th>marital</th>\n",
       "      <th>education</th>\n",
       "      <th>default</th>\n",
       "      <th>balance</th>\n",
       "      <th>housing</th>\n",
       "      <th>loan</th>\n",
       "      <th>contact</th>\n",
       "      <th>day</th>\n",
       "      <th>...</th>\n",
       "      <th>campaign</th>\n",
       "      <th>pdays</th>\n",
       "      <th>previous</th>\n",
       "      <th>poutcome</th>\n",
       "      <th>y</th>\n",
       "      <th>cost</th>\n",
       "      <th>job_group</th>\n",
       "      <th>balgroup</th>\n",
       "      <th>age_group</th>\n",
       "      <th>y_num</th>\n",
       "    </tr>\n",
       "  </thead>\n",
       "  <tbody>\n",
       "    <tr>\n",
       "      <th>0</th>\n",
       "      <td>58</td>\n",
       "      <td>management</td>\n",
       "      <td>married</td>\n",
       "      <td>tertiary</td>\n",
       "      <td>no</td>\n",
       "      <td>2143</td>\n",
       "      <td>yes</td>\n",
       "      <td>no</td>\n",
       "      <td>unknown</td>\n",
       "      <td>5</td>\n",
       "      <td>...</td>\n",
       "      <td>1</td>\n",
       "      <td>-1</td>\n",
       "      <td>0</td>\n",
       "      <td>unknown</td>\n",
       "      <td>no</td>\n",
       "      <td>2.61</td>\n",
       "      <td>employee</td>\n",
       "      <td>&gt;= 1428</td>\n",
       "      <td>50 - 65</td>\n",
       "      <td>0</td>\n",
       "    </tr>\n",
       "    <tr>\n",
       "      <th>1</th>\n",
       "      <td>44</td>\n",
       "      <td>technician</td>\n",
       "      <td>single</td>\n",
       "      <td>secondary</td>\n",
       "      <td>no</td>\n",
       "      <td>29</td>\n",
       "      <td>yes</td>\n",
       "      <td>no</td>\n",
       "      <td>unknown</td>\n",
       "      <td>5</td>\n",
       "      <td>...</td>\n",
       "      <td>1</td>\n",
       "      <td>-1</td>\n",
       "      <td>0</td>\n",
       "      <td>unknown</td>\n",
       "      <td>no</td>\n",
       "      <td>1.51</td>\n",
       "      <td>employee</td>\n",
       "      <td>1 - 286</td>\n",
       "      <td>34 - 49</td>\n",
       "      <td>0</td>\n",
       "    </tr>\n",
       "    <tr>\n",
       "      <th>2</th>\n",
       "      <td>33</td>\n",
       "      <td>entrepreneur</td>\n",
       "      <td>married</td>\n",
       "      <td>secondary</td>\n",
       "      <td>no</td>\n",
       "      <td>2</td>\n",
       "      <td>yes</td>\n",
       "      <td>yes</td>\n",
       "      <td>unknown</td>\n",
       "      <td>5</td>\n",
       "      <td>...</td>\n",
       "      <td>1</td>\n",
       "      <td>-1</td>\n",
       "      <td>0</td>\n",
       "      <td>unknown</td>\n",
       "      <td>no</td>\n",
       "      <td>0.76</td>\n",
       "      <td>self-employed</td>\n",
       "      <td>1 - 286</td>\n",
       "      <td>18 - 33</td>\n",
       "      <td>0</td>\n",
       "    </tr>\n",
       "    <tr>\n",
       "      <th>3</th>\n",
       "      <td>47</td>\n",
       "      <td>blue-collar</td>\n",
       "      <td>married</td>\n",
       "      <td>unknown</td>\n",
       "      <td>no</td>\n",
       "      <td>1506</td>\n",
       "      <td>yes</td>\n",
       "      <td>no</td>\n",
       "      <td>unknown</td>\n",
       "      <td>5</td>\n",
       "      <td>...</td>\n",
       "      <td>1</td>\n",
       "      <td>-1</td>\n",
       "      <td>0</td>\n",
       "      <td>unknown</td>\n",
       "      <td>no</td>\n",
       "      <td>0.92</td>\n",
       "      <td>manual labor</td>\n",
       "      <td>&gt;= 1428</td>\n",
       "      <td>34 - 49</td>\n",
       "      <td>0</td>\n",
       "    </tr>\n",
       "    <tr>\n",
       "      <th>4</th>\n",
       "      <td>33</td>\n",
       "      <td>unknown</td>\n",
       "      <td>single</td>\n",
       "      <td>unknown</td>\n",
       "      <td>no</td>\n",
       "      <td>1</td>\n",
       "      <td>no</td>\n",
       "      <td>no</td>\n",
       "      <td>unknown</td>\n",
       "      <td>5</td>\n",
       "      <td>...</td>\n",
       "      <td>1</td>\n",
       "      <td>-1</td>\n",
       "      <td>0</td>\n",
       "      <td>unknown</td>\n",
       "      <td>no</td>\n",
       "      <td>1.98</td>\n",
       "      <td>unknown</td>\n",
       "      <td>1 - 286</td>\n",
       "      <td>18 - 33</td>\n",
       "      <td>0</td>\n",
       "    </tr>\n",
       "    <tr>\n",
       "      <th>...</th>\n",
       "      <td>...</td>\n",
       "      <td>...</td>\n",
       "      <td>...</td>\n",
       "      <td>...</td>\n",
       "      <td>...</td>\n",
       "      <td>...</td>\n",
       "      <td>...</td>\n",
       "      <td>...</td>\n",
       "      <td>...</td>\n",
       "      <td>...</td>\n",
       "      <td>...</td>\n",
       "      <td>...</td>\n",
       "      <td>...</td>\n",
       "      <td>...</td>\n",
       "      <td>...</td>\n",
       "      <td>...</td>\n",
       "      <td>...</td>\n",
       "      <td>...</td>\n",
       "      <td>...</td>\n",
       "      <td>...</td>\n",
       "      <td>...</td>\n",
       "    </tr>\n",
       "    <tr>\n",
       "      <th>45206</th>\n",
       "      <td>51</td>\n",
       "      <td>technician</td>\n",
       "      <td>married</td>\n",
       "      <td>tertiary</td>\n",
       "      <td>no</td>\n",
       "      <td>825</td>\n",
       "      <td>no</td>\n",
       "      <td>no</td>\n",
       "      <td>cellular</td>\n",
       "      <td>17</td>\n",
       "      <td>...</td>\n",
       "      <td>3</td>\n",
       "      <td>-1</td>\n",
       "      <td>0</td>\n",
       "      <td>unknown</td>\n",
       "      <td>yes</td>\n",
       "      <td>9.77</td>\n",
       "      <td>employee</td>\n",
       "      <td>573 - 857</td>\n",
       "      <td>50 - 65</td>\n",
       "      <td>1</td>\n",
       "    </tr>\n",
       "    <tr>\n",
       "      <th>45207</th>\n",
       "      <td>71</td>\n",
       "      <td>retired</td>\n",
       "      <td>divorced</td>\n",
       "      <td>primary</td>\n",
       "      <td>no</td>\n",
       "      <td>1729</td>\n",
       "      <td>no</td>\n",
       "      <td>no</td>\n",
       "      <td>cellular</td>\n",
       "      <td>17</td>\n",
       "      <td>...</td>\n",
       "      <td>2</td>\n",
       "      <td>-1</td>\n",
       "      <td>0</td>\n",
       "      <td>unknown</td>\n",
       "      <td>yes</td>\n",
       "      <td>4.56</td>\n",
       "      <td>retired</td>\n",
       "      <td>&gt;= 1428</td>\n",
       "      <td>66 - 81</td>\n",
       "      <td>1</td>\n",
       "    </tr>\n",
       "    <tr>\n",
       "      <th>45208</th>\n",
       "      <td>72</td>\n",
       "      <td>retired</td>\n",
       "      <td>married</td>\n",
       "      <td>secondary</td>\n",
       "      <td>no</td>\n",
       "      <td>5715</td>\n",
       "      <td>no</td>\n",
       "      <td>no</td>\n",
       "      <td>cellular</td>\n",
       "      <td>17</td>\n",
       "      <td>...</td>\n",
       "      <td>5</td>\n",
       "      <td>184</td>\n",
       "      <td>3</td>\n",
       "      <td>success</td>\n",
       "      <td>yes</td>\n",
       "      <td>11.27</td>\n",
       "      <td>retired</td>\n",
       "      <td>&gt;= 1428</td>\n",
       "      <td>66 - 81</td>\n",
       "      <td>1</td>\n",
       "    </tr>\n",
       "    <tr>\n",
       "      <th>45209</th>\n",
       "      <td>57</td>\n",
       "      <td>blue-collar</td>\n",
       "      <td>married</td>\n",
       "      <td>secondary</td>\n",
       "      <td>no</td>\n",
       "      <td>668</td>\n",
       "      <td>no</td>\n",
       "      <td>no</td>\n",
       "      <td>telephone</td>\n",
       "      <td>17</td>\n",
       "      <td>...</td>\n",
       "      <td>4</td>\n",
       "      <td>-1</td>\n",
       "      <td>0</td>\n",
       "      <td>unknown</td>\n",
       "      <td>no</td>\n",
       "      <td>5.08</td>\n",
       "      <td>manual labor</td>\n",
       "      <td>573 - 857</td>\n",
       "      <td>50 - 65</td>\n",
       "      <td>0</td>\n",
       "    </tr>\n",
       "    <tr>\n",
       "      <th>45210</th>\n",
       "      <td>37</td>\n",
       "      <td>entrepreneur</td>\n",
       "      <td>married</td>\n",
       "      <td>secondary</td>\n",
       "      <td>no</td>\n",
       "      <td>2971</td>\n",
       "      <td>no</td>\n",
       "      <td>no</td>\n",
       "      <td>cellular</td>\n",
       "      <td>17</td>\n",
       "      <td>...</td>\n",
       "      <td>2</td>\n",
       "      <td>188</td>\n",
       "      <td>11</td>\n",
       "      <td>other</td>\n",
       "      <td>no</td>\n",
       "      <td>3.61</td>\n",
       "      <td>self-employed</td>\n",
       "      <td>&gt;= 1428</td>\n",
       "      <td>34 - 49</td>\n",
       "      <td>0</td>\n",
       "    </tr>\n",
       "  </tbody>\n",
       "</table>\n",
       "<p>45211 rows × 22 columns</p>\n",
       "</div>"
      ],
      "text/plain": [
       "       age           job   marital  education default  balance housing loan  \\\n",
       "0       58    management   married   tertiary      no     2143     yes   no   \n",
       "1       44    technician    single  secondary      no       29     yes   no   \n",
       "2       33  entrepreneur   married  secondary      no        2     yes  yes   \n",
       "3       47   blue-collar   married    unknown      no     1506     yes   no   \n",
       "4       33       unknown    single    unknown      no        1      no   no   \n",
       "...    ...           ...       ...        ...     ...      ...     ...  ...   \n",
       "45206   51    technician   married   tertiary      no      825      no   no   \n",
       "45207   71       retired  divorced    primary      no     1729      no   no   \n",
       "45208   72       retired   married  secondary      no     5715      no   no   \n",
       "45209   57   blue-collar   married  secondary      no      668      no   no   \n",
       "45210   37  entrepreneur   married  secondary      no     2971      no   no   \n",
       "\n",
       "         contact  day  ... campaign  pdays  previous  poutcome    y   cost  \\\n",
       "0        unknown    5  ...        1     -1         0   unknown   no   2.61   \n",
       "1        unknown    5  ...        1     -1         0   unknown   no   1.51   \n",
       "2        unknown    5  ...        1     -1         0   unknown   no   0.76   \n",
       "3        unknown    5  ...        1     -1         0   unknown   no   0.92   \n",
       "4        unknown    5  ...        1     -1         0   unknown   no   1.98   \n",
       "...          ...  ...  ...      ...    ...       ...       ...  ...    ...   \n",
       "45206   cellular   17  ...        3     -1         0   unknown  yes   9.77   \n",
       "45207   cellular   17  ...        2     -1         0   unknown  yes   4.56   \n",
       "45208   cellular   17  ...        5    184         3   success  yes  11.27   \n",
       "45209  telephone   17  ...        4     -1         0   unknown   no   5.08   \n",
       "45210   cellular   17  ...        2    188        11     other   no   3.61   \n",
       "\n",
       "           job_group   balgroup age_group y_num  \n",
       "0           employee    >= 1428   50 - 65     0  \n",
       "1           employee    1 - 286   34 - 49     0  \n",
       "2      self-employed    1 - 286   18 - 33     0  \n",
       "3       manual labor    >= 1428   34 - 49     0  \n",
       "4            unknown    1 - 286   18 - 33     0  \n",
       "...              ...        ...       ...   ...  \n",
       "45206       employee  573 - 857   50 - 65     1  \n",
       "45207        retired    >= 1428   66 - 81     1  \n",
       "45208        retired    >= 1428   66 - 81     1  \n",
       "45209   manual labor  573 - 857   50 - 65     0  \n",
       "45210  self-employed    >= 1428   34 - 49     0  \n",
       "\n",
       "[45211 rows x 22 columns]"
      ]
     },
     "execution_count": 33,
     "metadata": {},
     "output_type": "execute_result"
    }
   ],
   "source": [
    "data_visual['y_num'] = df['y'].apply(lambda x: 1 if x == 'yes' else 0)\n",
    "data_visual"
   ]
  },
  {
   "cell_type": "markdown",
   "metadata": {
    "id": "c1zLgMGysZx5"
   },
   "source": [
    "### Age"
   ]
  },
  {
   "cell_type": "markdown",
   "metadata": {
    "id": "JcrLE5U3sZx5"
   },
   "source": [
    "**Berdasarkan histogram, distribusi data ini adalah positively skewed, pada boxplot pun mean > median. Populasi grup ini ada diantara 20 dan 60. Jika dilihat lebih jauh lagi pada boxplot, sasaran bank ada pada kelompok umur 30 s/d 50. Kami rasa di rentang usia tersebut adalah prime age manusia**"
   ]
  },
  {
   "cell_type": "code",
   "execution_count": 34,
   "metadata": {
    "colab": {
     "base_uri": "https://localhost:8080/",
     "height": 283
    },
    "executionInfo": {
     "elapsed": 47,
     "status": "ok",
     "timestamp": 1639199114437,
     "user": {
      "displayName": "Yoga Arif Prasetyo",
      "photoUrl": "https://lh3.googleusercontent.com/a-/AOh14GhIHOM0hjk81qSnAXjHjjE0vY0QrFxbyiwTGmPySw=s64",
      "userId": "08915794686434457753"
     },
     "user_tz": -420
    },
    "id": "ZBnfyj45sZx6",
    "outputId": "1c3844f2-3864-4d41-f77c-da254889f7d8"
   },
   "outputs": [
    {
     "data": {
      "image/png": "[encoded data removed]",
      "text/plain": [
       "<Figure size 864x288 with 2 Axes>"
      ]
     },
     "metadata": {
      "needs_background": "light"
     },
     "output_type": "display_data"
    }
   ],
   "source": [
    "f, (ax_box, ax_hist) = plt.subplots(2, sharex=True, gridspec_kw= {\"height_ratios\": (0.3, 1)})\n",
    "sns.set(rc={'figure.figsize':(11,8)}, font_scale=1.5, style='whitegrid')\n",
    "mean=data_visual['age'].mean()\n",
    "median=data_visual['age'].median()\n",
    "mode=data_visual['age'].mode().values[0]\n",
    "\n",
    "age = sns.boxplot(data=data_visual, x=\"age\", y=\"y\", ax=ax_box, order = data_visual[\"y\"].value_counts().index)\n",
    "ax_box.axvline(mean, color='r', linestyle='--')\n",
    "ax_box.axvline(median, color='g', linestyle='-')\n",
    "ax_box.axvline(mode, color='b', linestyle='-')\n",
    "\n",
    "sns.histplot(data=data_visual, x=\"age\", ax=ax_hist, kde=True)\n",
    "ax_hist.axvline(mean, color='r', linestyle='--', label=\"Mean\")\n",
    "ax_hist.axvline(median, color='g', linestyle='-', label=\"Median\")\n",
    "ax_hist.axvline(mode, color='b', linestyle='-', label=\"Mode\")\n",
    "ax_hist.legend()\n",
    "ax_box.set(xlabel='')\n",
    "plt.show()"
   ]
  },
  {
   "cell_type": "code",
   "execution_count": 35,
   "metadata": {
    "colab": {
     "base_uri": "https://localhost:8080/",
     "height": 384
    },
    "executionInfo": {
     "elapsed": 758,
     "status": "ok",
     "timestamp": 1639199233932,
     "user": {
      "displayName": "Yoga Arif Prasetyo",
      "photoUrl": "https://lh3.googleusercontent.com/a-/AOh14GhIHOM0hjk81qSnAXjHjjE0vY0QrFxbyiwTGmPySw=s64",
      "userId": "08915794686434457753"
     },
     "user_tz": -420
    },
    "id": "cnFUonPx4uvm",
    "outputId": "599cac2f-7b41-42d4-abe6-f0e82c0281d1"
   },
   "outputs": [
    {
     "data": {
      "image/png": "[encoded data removed]",
      "text/plain": [
       "<Figure size 720x360 with 1 Axes>"
      ]
     },
     "metadata": {},
     "output_type": "display_data"
    }
   ],
   "source": [
    "sns.set_theme(style='darkgrid')\n",
    "sns.set(rc = {'figure.figsize':(10, 5)})\n",
    "job = sns.countplot(x=\"age_group\", data = data_visual, hue = \"y\", order = data_visual[\"age_group\"].value_counts().index)\n",
    "job.tick_params(axis='x', rotation=60)\n",
    "plt.title(\"Bivariate analysis of the relationship between 'age' and 'y'\")\n",
    "plt.show()"
   ]
  },
  {
   "cell_type": "markdown",
   "metadata": {
    "id": "pM1VxjffAjPp"
   },
   "source": [
    "### Job"
   ]
  },
  {
   "cell_type": "markdown",
   "metadata": {
    "id": "ZiJrOJAfsZx6"
   },
   "source": [
    "**Bank menghubungi lebih banyak orang dengan pekerjaan 'employee'**"
   ]
  },
  {
   "cell_type": "code",
   "execution_count": 36,
   "metadata": {
    "colab": {
     "base_uri": "https://localhost:8080/",
     "height": 418
    },
    "executionInfo": {
     "elapsed": 1147,
     "status": "ok",
     "timestamp": 1639199115542,
     "user": {
      "displayName": "Yoga Arif Prasetyo",
      "photoUrl": "https://lh3.googleusercontent.com/a-/AOh14GhIHOM0hjk81qSnAXjHjjE0vY0QrFxbyiwTGmPySw=s64",
      "userId": "08915794686434457753"
     },
     "user_tz": -420
    },
    "id": "JTC5BTPy_Vq2",
    "outputId": "561a01d1-1ee3-4bc6-a788-9a4902d7b9f2"
   },
   "outputs": [
    {
     "data": {
      "image/png": "[encoded data removed]",
      "text/plain": [
       "<Figure size 720x360 with 1 Axes>"
      ]
     },
     "metadata": {},
     "output_type": "display_data"
    }
   ],
   "source": [
    "sns.set_theme(style='darkgrid')\n",
    "sns.set(rc = {'figure.figsize':(10, 5)})\n",
    "job = sns.countplot(x=\"job_group\", data = data_visual, hue = \"y\", order = data_visual[\"job_group\"].value_counts().index)\n",
    "job.tick_params(axis='x', rotation=60)\n",
    "plt.title(\"Bivariate analysis of the relationship between 'job' and 'y'\")\n",
    "plt.show()"
   ]
  },
  {
   "cell_type": "code",
   "execution_count": 37,
   "metadata": {
    "colab": {
     "base_uri": "https://localhost:8080/",
     "height": 374
    },
    "executionInfo": {
     "elapsed": 2285,
     "status": "ok",
     "timestamp": 1639199117770,
     "user": {
      "displayName": "Yoga Arif Prasetyo",
      "photoUrl": "https://lh3.googleusercontent.com/a-/AOh14GhIHOM0hjk81qSnAXjHjjE0vY0QrFxbyiwTGmPySw=s64",
      "userId": "08915794686434457753"
     },
     "user_tz": -420
    },
    "id": "eRkSY85-_uOO",
    "outputId": "d0fc1c57-a072-47f2-9592-bb5604e89291"
   },
   "outputs": [
    {
     "data": {
      "text/plain": [
       "Text(0.5, 1.0, 'Probabilitas buka tabungan deposito berdasarkan Job')"
      ]
     },
     "execution_count": 37,
     "metadata": {},
     "output_type": "execute_result"
    },
    {
     "data": {
      "image/png": "[encoded data removed]",
      "text/plain": [
       "<Figure size 1440x360 with 1 Axes>"
      ]
     },
     "metadata": {},
     "output_type": "display_data"
    }
   ],
   "source": [
    "plt.figure( figsize = (20, 5))\n",
    "sns.barplot(data = data_visual, x = 'job_group', y = 'y_num')\n",
    "plt.xlabel(\"Job\", fontsize = 14)\n",
    "plt.ylabel(\"Probability\", fontsize = 14)\n",
    "plt.title(\"Probabilitas buka tabungan deposito berdasarkan Job\", fontsize = 14)"
   ]
  },
  {
   "cell_type": "markdown",
   "metadata": {
    "id": "wBHgdZk9AEf9"
   },
   "source": [
    "### Marital Feature\n",
    "**Bank lebih tertarik pada customer yang sudah menikah dan lajang daripada bercerai**"
   ]
  },
  {
   "cell_type": "code",
   "execution_count": 38,
   "metadata": {
    "colab": {
     "base_uri": "https://localhost:8080/",
     "height": 392
    },
    "executionInfo": {
     "elapsed": 89,
     "status": "ok",
     "timestamp": 1639199117774,
     "user": {
      "displayName": "Yoga Arif Prasetyo",
      "photoUrl": "https://lh3.googleusercontent.com/a-/AOh14GhIHOM0hjk81qSnAXjHjjE0vY0QrFxbyiwTGmPySw=s64",
      "userId": "08915794686434457753"
     },
     "user_tz": -420
    },
    "id": "eJB2gVhy_m5W",
    "outputId": "62213fb7-cf19-4d3b-d757-300b40f6bcfd"
   },
   "outputs": [
    {
     "data": {
      "image/png": "[encoded data removed]",
      "text/plain": [
       "<Figure size 720x360 with 1 Axes>"
      ]
     },
     "metadata": {},
     "output_type": "display_data"
    }
   ],
   "source": [
    "sns.set_theme(style='darkgrid')\n",
    "sns.set(rc = {'figure.figsize':(10, 5)})\n",
    "marital = sns.countplot(x=\"marital\", data = data_visual, hue = \"y\", order = data_visual[\"marital\"].value_counts().index)\n",
    "marital.tick_params(axis='x', rotation=60)\n",
    "plt.title(\"Bivariate analysis of the relationship between 'marital' and 'y'\")\n",
    "plt.show()"
   ]
  },
  {
   "cell_type": "code",
   "execution_count": 39,
   "metadata": {
    "colab": {
     "base_uri": "https://localhost:8080/",
     "height": 374
    },
    "executionInfo": {
     "elapsed": 1236,
     "status": "ok",
     "timestamp": 1639199118925,
     "user": {
      "displayName": "Yoga Arif Prasetyo",
      "photoUrl": "https://lh3.googleusercontent.com/a-/AOh14GhIHOM0hjk81qSnAXjHjjE0vY0QrFxbyiwTGmPySw=s64",
      "userId": "08915794686434457753"
     },
     "user_tz": -420
    },
    "id": "Etx-34TJANt4",
    "outputId": "7bee7dc4-6b17-4d54-87dc-3d9ef8b32bfc"
   },
   "outputs": [
    {
     "data": {
      "text/plain": [
       "Text(0.5, 1.0, 'Probabilitas buka tabungan deposito berdasarkan Marital Situation')"
      ]
     },
     "execution_count": 39,
     "metadata": {},
     "output_type": "execute_result"
    },
    {
     "data": {
      "image/png": "[encoded data removed]",
      "text/plain": [
       "<Figure size 1440x360 with 1 Axes>"
      ]
     },
     "metadata": {},
     "output_type": "display_data"
    }
   ],
   "source": [
    "plt.figure( figsize = (20, 5))\n",
    "plt.subplot(121)\n",
    "sns.barplot(data = data_visual, x = 'marital', y = 'y_num')\n",
    "plt.xlabel(\"Marital Situation\", fontsize = 14)\n",
    "plt.ylabel(\"Probability\", fontsize = 14)\n",
    "plt.title(\"Probabilitas buka tabungan deposito berdasarkan Marital Situation\", fontsize = 14)"
   ]
  },
  {
   "cell_type": "markdown",
   "metadata": {
    "id": "xhssCwV4AeMo"
   },
   "source": [
    "### Education\n",
    "**Nasabah dengan education Secondary mendominasi pada populasi nasabah, sehingga terlihat dominan pada sebaran data. Namun secara persentase perbandingan per jenjang pendidikan, Nasabah dengan pendidikan tertiary mempunyai persentase lebih tinggi dalam pembukaan deposito**"
   ]
  },
  {
   "cell_type": "code",
   "execution_count": 40,
   "metadata": {
    "colab": {
     "base_uri": "https://localhost:8080/",
     "height": 355
    },
    "executionInfo": {
     "elapsed": 50,
     "status": "ok",
     "timestamp": 1639199118927,
     "user": {
      "displayName": "Yoga Arif Prasetyo",
      "photoUrl": "https://lh3.googleusercontent.com/a-/AOh14GhIHOM0hjk81qSnAXjHjjE0vY0QrFxbyiwTGmPySw=s64",
      "userId": "08915794686434457753"
     },
     "user_tz": -420
    },
    "id": "G67KoBmnATTP",
    "outputId": "8f4115a0-7a74-4c74-de38-0f22fc566ca9"
   },
   "outputs": [
    {
     "data": {
      "image/png": "[encoded data removed]",
      "text/plain": [
       "<Figure size 720x360 with 1 Axes>"
      ]
     },
     "metadata": {},
     "output_type": "display_data"
    }
   ],
   "source": [
    "sns.set_theme(style='darkgrid')\n",
    "sns.set(rc = {'figure.figsize':(10, 5)})\n",
    "education = sns.countplot(y=\"education\", data = data_visual, hue = \"y\", order = ['unknown', 'primary', 'secondary', 'tertiary'])\n",
    "plt.title(\"Bivariate analysis of the relationship between 'education' and 'y'\")\n",
    "plt.show()"
   ]
  },
  {
   "cell_type": "code",
   "execution_count": 41,
   "metadata": {
    "colab": {
     "base_uri": "https://localhost:8080/",
     "height": 374
    },
    "executionInfo": {
     "elapsed": 49,
     "status": "ok",
     "timestamp": 1639199118930,
     "user": {
      "displayName": "Yoga Arif Prasetyo",
      "photoUrl": "https://lh3.googleusercontent.com/a-/AOh14GhIHOM0hjk81qSnAXjHjjE0vY0QrFxbyiwTGmPySw=s64",
      "userId": "08915794686434457753"
     },
     "user_tz": -420
    },
    "id": "JgYgmuLoAVtl",
    "outputId": "7155590e-fab8-4212-c1c7-dfd8a15af2ec"
   },
   "outputs": [
    {
     "data": {
      "text/plain": [
       "Text(0.5, 1.0, 'Probabilitas buka tabungan deposito berdasarkan Education')"
      ]
     },
     "execution_count": 41,
     "metadata": {},
     "output_type": "execute_result"
    },
    {
     "data": {
      "image/png": "[encoded data removed]",
      "text/plain": [
       "<Figure size 1440x360 with 1 Axes>"
      ]
     },
     "metadata": {},
     "output_type": "display_data"
    }
   ],
   "source": [
    "plt.figure( figsize = (20, 5))\n",
    "plt.subplot(121)\n",
    "sns.barplot(data = data_visual, x = 'education', y = 'y_num')\n",
    "plt.xlabel(\"Education\", fontsize = 14)\n",
    "plt.ylabel(\"Probability\", fontsize = 14)\n",
    "plt.title(\"Probabilitas buka tabungan deposito berdasarkan Education\", fontsize = 14)"
   ]
  },
  {
   "cell_type": "markdown",
   "metadata": {
    "id": "spYtamFSsZx-"
   },
   "source": [
    "### Housing"
   ]
  },
  {
   "cell_type": "markdown",
   "metadata": {
    "id": "f6aGIoS4sZx-"
   },
   "source": [
    "**Nasabah yang tidak memiliki kredit kepemilikan rumah lebih banyak yang membuka deposito dibandingan dengan yang memiliki kredit kepemilikan rumah**"
   ]
  },
  {
   "cell_type": "code",
   "execution_count": 42,
   "metadata": {
    "colab": {
     "base_uri": "https://localhost:8080/",
     "height": 339
    },
    "executionInfo": {
     "elapsed": 83,
     "status": "ok",
     "timestamp": 1639199122789,
     "user": {
      "displayName": "Yoga Arif Prasetyo",
      "photoUrl": "https://lh3.googleusercontent.com/a-/AOh14GhIHOM0hjk81qSnAXjHjjE0vY0QrFxbyiwTGmPySw=s64",
      "userId": "08915794686434457753"
     },
     "user_tz": -420
    },
    "id": "yna0qWhg4MLF",
    "outputId": "4280fca0-7f4c-415e-9ecc-cd99c1e0e643"
   },
   "outputs": [
    {
     "data": {
      "image/png": "[encoded data removed]",
      "text/plain": [
       "<Figure size 720x360 with 1 Axes>"
      ]
     },
     "metadata": {},
     "output_type": "display_data"
    }
   ],
   "source": [
    "sns.countplot(data=data_visual, y='housing', hue='y');"
   ]
  },
  {
   "cell_type": "markdown",
   "metadata": {
    "id": "lqpMxjxS4U8M"
   },
   "source": [
    "### Balance"
   ]
  },
  {
   "cell_type": "markdown",
   "metadata": {
    "id": "0V--LVFosZx_"
   },
   "source": [
    "**Range besarnya saldo rata tidak mempengaruhi pembukaan rekening deposito, walaupun angka pembukaan rekening deposito didominasi oleh orang yang bersaldo di atas rata-rata.**"
   ]
  },
  {
   "cell_type": "code",
   "execution_count": 43,
   "metadata": {
    "colab": {
     "base_uri": "https://localhost:8080/",
     "height": 339
    },
    "executionInfo": {
     "elapsed": 81,
     "status": "ok",
     "timestamp": 1639199122791,
     "user": {
      "displayName": "Yoga Arif Prasetyo",
      "photoUrl": "https://lh3.googleusercontent.com/a-/AOh14GhIHOM0hjk81qSnAXjHjjE0vY0QrFxbyiwTGmPySw=s64",
      "userId": "08915794686434457753"
     },
     "user_tz": -420
    },
    "id": "gC-HvYii38sY",
    "outputId": "649a9f5c-835f-4b64-dcd1-91461f140c6d"
   },
   "outputs": [
    {
     "data": {
      "image/png": "[encoded data removed]",
      "text/plain": [
       "<Figure size 720x360 with 1 Axes>"
      ]
     },
     "metadata": {},
     "output_type": "display_data"
    }
   ],
   "source": [
    "sns.countplot(data=data_visual, y='balgroup', hue='y');"
   ]
  },
  {
   "cell_type": "code",
   "execution_count": 44,
   "metadata": {
    "colab": {
     "base_uri": "https://localhost:8080/"
    },
    "executionInfo": {
     "elapsed": 80,
     "status": "ok",
     "timestamp": 1639199122793,
     "user": {
      "displayName": "Yoga Arif Prasetyo",
      "photoUrl": "https://lh3.googleusercontent.com/a-/AOh14GhIHOM0hjk81qSnAXjHjjE0vY0QrFxbyiwTGmPySw=s64",
      "userId": "08915794686434457753"
     },
     "user_tz": -420
    },
    "id": "wDNKOp_X386Z",
    "outputId": "e6bccbf0-342b-4052-f27b-bcc2d60bae54"
   },
   "outputs": [
    {
     "data": {
      "text/plain": [
       "1143 - 1427     280\n",
       "858 - 1142      369\n",
       "573 - 857       467\n",
       "<= 0            502\n",
       "287 - 572       770\n",
       "1 - 286        1076\n",
       ">= 1428        1825\n",
       "Name: balgroup, dtype: int64"
      ]
     },
     "execution_count": 44,
     "metadata": {},
     "output_type": "execute_result"
    }
   ],
   "source": [
    "df1 = data_visual[data_visual['y'] == 'yes']\n",
    "df1['balgroup'].value_counts().sort_values(ascending=True)"
   ]
  },
  {
   "cell_type": "markdown",
   "metadata": {
    "id": "-97UllQwyL7u"
   },
   "source": [
    "### Loan"
   ]
  },
  {
   "cell_type": "markdown",
   "metadata": {
    "id": "T5_QG9UvsZyA"
   },
   "source": [
    "**Dilihat dari total dan jumlah rasio, lebih banyak pelanggan yang membuka deposit jika tidak memiliki loan**"
   ]
  },
  {
   "cell_type": "code",
   "execution_count": 45,
   "metadata": {
    "colab": {
     "base_uri": "https://localhost:8080/",
     "height": 175
    },
    "executionInfo": {
     "elapsed": 39,
     "status": "ok",
     "timestamp": 1639199122795,
     "user": {
      "displayName": "Yoga Arif Prasetyo",
      "photoUrl": "https://lh3.googleusercontent.com/a-/AOh14GhIHOM0hjk81qSnAXjHjjE0vY0QrFxbyiwTGmPySw=s64",
      "userId": "08915794686434457753"
     },
     "user_tz": -420
    },
    "id": "tqT8unWjzuQN",
    "outputId": "759d3682-51db-4229-f84c-26713b2fddf6"
   },
   "outputs": [
    {
     "data": {
      "text/html": [
       "<div>\n",
       "<style scoped>\n",
       "    .dataframe tbody tr th:only-of-type {\n",
       "        vertical-align: middle;\n",
       "    }\n",
       "\n",
       "    .dataframe tbody tr th {\n",
       "        vertical-align: top;\n",
       "    }\n",
       "\n",
       "    .dataframe thead th {\n",
       "        text-align: right;\n",
       "    }\n",
       "</style>\n",
       "<table border=\"1\" class=\"dataframe\">\n",
       "  <thead>\n",
       "    <tr style=\"text-align: right;\">\n",
       "      <th></th>\n",
       "      <th>loan</th>\n",
       "      <th>y</th>\n",
       "      <th>count</th>\n",
       "      <th>total_per_count</th>\n",
       "      <th>ratio</th>\n",
       "    </tr>\n",
       "  </thead>\n",
       "  <tbody>\n",
       "    <tr>\n",
       "      <th>0</th>\n",
       "      <td>no</td>\n",
       "      <td>no</td>\n",
       "      <td>33162</td>\n",
       "      <td>37967</td>\n",
       "      <td>87.344273</td>\n",
       "    </tr>\n",
       "    <tr>\n",
       "      <th>1</th>\n",
       "      <td>no</td>\n",
       "      <td>yes</td>\n",
       "      <td>4805</td>\n",
       "      <td>37967</td>\n",
       "      <td>12.655727</td>\n",
       "    </tr>\n",
       "    <tr>\n",
       "      <th>2</th>\n",
       "      <td>yes</td>\n",
       "      <td>no</td>\n",
       "      <td>6760</td>\n",
       "      <td>7244</td>\n",
       "      <td>93.318609</td>\n",
       "    </tr>\n",
       "    <tr>\n",
       "      <th>3</th>\n",
       "      <td>yes</td>\n",
       "      <td>yes</td>\n",
       "      <td>484</td>\n",
       "      <td>7244</td>\n",
       "      <td>6.681391</td>\n",
       "    </tr>\n",
       "  </tbody>\n",
       "</table>\n",
       "</div>"
      ],
      "text/plain": [
       "  loan    y  count  total_per_count      ratio\n",
       "0   no   no  33162            37967  87.344273\n",
       "1   no  yes   4805            37967  12.655727\n",
       "2  yes   no   6760             7244  93.318609\n",
       "3  yes  yes    484             7244   6.681391"
      ]
     },
     "execution_count": 45,
     "metadata": {},
     "output_type": "execute_result"
    }
   ],
   "source": [
    "df_loan = data_visual.copy()\n",
    "df_loan_group = df_loan.groupby(['loan', 'y'])['job'].count().reset_index()\n",
    "df_loan_group.columns = ['loan', 'y', 'count']\n",
    "df_loan_group['total_per_count'] = df_loan_group.groupby(['loan'])['count'].transform('sum')\n",
    "df_loan_group['ratio'] = (df_loan_group['count']/df_loan_group['total_per_count'])*100\n",
    "df_loan_group"
   ]
  },
  {
   "cell_type": "code",
   "execution_count": 46,
   "metadata": {
    "colab": {
     "base_uri": "https://localhost:8080/",
     "height": 339
    },
    "executionInfo": {
     "elapsed": 1891,
     "status": "ok",
     "timestamp": 1639199124648,
     "user": {
      "displayName": "Yoga Arif Prasetyo",
      "photoUrl": "https://lh3.googleusercontent.com/a-/AOh14GhIHOM0hjk81qSnAXjHjjE0vY0QrFxbyiwTGmPySw=s64",
      "userId": "08915794686434457753"
     },
     "user_tz": -420
    },
    "id": "hmYuu2Pzz4ww",
    "outputId": "9825cfa6-1e9c-403b-b462-4e60adf36a67"
   },
   "outputs": [
    {
     "data": {
      "image/png": "[encoded data removed]",
      "text/plain": [
       "<Figure size 720x360 with 1 Axes>"
      ]
     },
     "metadata": {},
     "output_type": "display_data"
    }
   ],
   "source": [
    "sns.countplot(data = data_visual, x = 'loan', hue = 'y');"
   ]
  },
  {
   "cell_type": "code",
   "execution_count": 47,
   "metadata": {
    "colab": {
     "base_uri": "https://localhost:8080/",
     "height": 339
    },
    "executionInfo": {
     "elapsed": 82,
     "status": "ok",
     "timestamp": 1639199124650,
     "user": {
      "displayName": "Yoga Arif Prasetyo",
      "photoUrl": "https://lh3.googleusercontent.com/a-/AOh14GhIHOM0hjk81qSnAXjHjjE0vY0QrFxbyiwTGmPySw=s64",
      "userId": "08915794686434457753"
     },
     "user_tz": -420
    },
    "id": "U7jHbA3Az70c",
    "outputId": "f6124a1e-f7e4-4bdb-e518-efe4227ceb1c"
   },
   "outputs": [
    {
     "data": {
      "image/png": "[encoded data removed]",
      "text/plain": [
       "<Figure size 720x360 with 1 Axes>"
      ]
     },
     "metadata": {},
     "output_type": "display_data"
    }
   ],
   "source": [
    "sns.barplot(data = df_loan_group, x = 'loan', y = 'ratio', hue = 'y');"
   ]
  },
  {
   "cell_type": "markdown",
   "metadata": {
    "id": "pkW-d3y2ArbA"
   },
   "source": [
    "### Default"
   ]
  },
  {
   "cell_type": "markdown",
   "metadata": {
    "id": "mchRRttpsZx-"
   },
   "source": [
    "**Tidak ada nasabah gagal bayar yang membuka deposito**"
   ]
  },
  {
   "cell_type": "code",
   "execution_count": 48,
   "metadata": {
    "colab": {
     "base_uri": "https://localhost:8080/"
    },
    "executionInfo": {
     "elapsed": 86,
     "status": "ok",
     "timestamp": 1639199122788,
     "user": {
      "displayName": "Yoga Arif Prasetyo",
      "photoUrl": "https://lh3.googleusercontent.com/a-/AOh14GhIHOM0hjk81qSnAXjHjjE0vY0QrFxbyiwTGmPySw=s64",
      "userId": "08915794686434457753"
     },
     "user_tz": -420
    },
    "id": "MtUJkgHJ38Qh",
    "outputId": "b11dd8ab-6f2a-4304-88f9-7c529bcc1f97"
   },
   "outputs": [
    {
     "data": {
      "image/png": "[encoded data removed]",
      "text/plain": [
       "<Figure size 720x360 with 1 Axes>"
      ]
     },
     "metadata": {},
     "output_type": "display_data"
    }
   ],
   "source": [
    "sns.countplot(data=data_visual, y='default', hue='y');"
   ]
  },
  {
   "cell_type": "markdown",
   "metadata": {
    "id": "5MXdzOcHsZyC"
   },
   "source": [
    "### Contact"
   ]
  },
  {
   "cell_type": "markdown",
   "metadata": {
    "id": "DQ_pE7OfsZyC"
   },
   "source": [
    "**Secara rasio yang dihubungi lewat cellular maupun telephone sama saja, namun jumlahnya lebih banyak yang cellular karena mungkin lebih mudah dijangkau.**"
   ]
  },
  {
   "cell_type": "code",
   "execution_count": 49,
   "metadata": {
    "colab": {
     "base_uri": "https://localhost:8080/",
     "height": 238
    },
    "executionInfo": {
     "elapsed": 80,
     "status": "ok",
     "timestamp": 1639199124652,
     "user": {
      "displayName": "Yoga Arif Prasetyo",
      "photoUrl": "https://lh3.googleusercontent.com/a-/AOh14GhIHOM0hjk81qSnAXjHjjE0vY0QrFxbyiwTGmPySw=s64",
      "userId": "08915794686434457753"
     },
     "user_tz": -420
    },
    "id": "5iiZ7OH30tRT",
    "outputId": "3f8df82e-ee81-43cb-b0a8-d3842a0bdce9"
   },
   "outputs": [
    {
     "data": {
      "text/html": [
       "<div>\n",
       "<style scoped>\n",
       "    .dataframe tbody tr th:only-of-type {\n",
       "        vertical-align: middle;\n",
       "    }\n",
       "\n",
       "    .dataframe tbody tr th {\n",
       "        vertical-align: top;\n",
       "    }\n",
       "\n",
       "    .dataframe thead th {\n",
       "        text-align: right;\n",
       "    }\n",
       "</style>\n",
       "<table border=\"1\" class=\"dataframe\">\n",
       "  <thead>\n",
       "    <tr style=\"text-align: right;\">\n",
       "      <th></th>\n",
       "      <th>contact</th>\n",
       "      <th>y</th>\n",
       "      <th>count</th>\n",
       "      <th>total_per_count</th>\n",
       "      <th>ratio</th>\n",
       "    </tr>\n",
       "  </thead>\n",
       "  <tbody>\n",
       "    <tr>\n",
       "      <th>0</th>\n",
       "      <td>cellular</td>\n",
       "      <td>no</td>\n",
       "      <td>24916</td>\n",
       "      <td>29285</td>\n",
       "      <td>85.081100</td>\n",
       "    </tr>\n",
       "    <tr>\n",
       "      <th>1</th>\n",
       "      <td>cellular</td>\n",
       "      <td>yes</td>\n",
       "      <td>4369</td>\n",
       "      <td>29285</td>\n",
       "      <td>14.918900</td>\n",
       "    </tr>\n",
       "    <tr>\n",
       "      <th>2</th>\n",
       "      <td>telephone</td>\n",
       "      <td>no</td>\n",
       "      <td>2516</td>\n",
       "      <td>2906</td>\n",
       "      <td>86.579491</td>\n",
       "    </tr>\n",
       "    <tr>\n",
       "      <th>3</th>\n",
       "      <td>telephone</td>\n",
       "      <td>yes</td>\n",
       "      <td>390</td>\n",
       "      <td>2906</td>\n",
       "      <td>13.420509</td>\n",
       "    </tr>\n",
       "    <tr>\n",
       "      <th>4</th>\n",
       "      <td>unknown</td>\n",
       "      <td>no</td>\n",
       "      <td>12490</td>\n",
       "      <td>13020</td>\n",
       "      <td>95.929339</td>\n",
       "    </tr>\n",
       "    <tr>\n",
       "      <th>5</th>\n",
       "      <td>unknown</td>\n",
       "      <td>yes</td>\n",
       "      <td>530</td>\n",
       "      <td>13020</td>\n",
       "      <td>4.070661</td>\n",
       "    </tr>\n",
       "  </tbody>\n",
       "</table>\n",
       "</div>"
      ],
      "text/plain": [
       "     contact    y  count  total_per_count      ratio\n",
       "0   cellular   no  24916            29285  85.081100\n",
       "1   cellular  yes   4369            29285  14.918900\n",
       "2  telephone   no   2516             2906  86.579491\n",
       "3  telephone  yes    390             2906  13.420509\n",
       "4    unknown   no  12490            13020  95.929339\n",
       "5    unknown  yes    530            13020   4.070661"
      ]
     },
     "execution_count": 49,
     "metadata": {},
     "output_type": "execute_result"
    }
   ],
   "source": [
    "df_contact = data_visual.copy()\n",
    "df_contact_group = df_contact.groupby(['contact', 'y'])['job'].count().reset_index()\n",
    "df_contact_group.columns = ['contact', 'y', 'count']\n",
    "df_contact_group['total_per_count'] = df_contact_group.groupby(['contact'])['count'].transform('sum')\n",
    "df_contact_group['ratio'] = (df_contact_group['count']/df_contact_group['total_per_count'])*100\n",
    "df_contact_group"
   ]
  },
  {
   "cell_type": "code",
   "execution_count": 50,
   "metadata": {
    "colab": {
     "base_uri": "https://localhost:8080/",
     "height": 339
    },
    "executionInfo": {
     "elapsed": 78,
     "status": "ok",
     "timestamp": 1639199124653,
     "user": {
      "displayName": "Yoga Arif Prasetyo",
      "photoUrl": "https://lh3.googleusercontent.com/a-/AOh14GhIHOM0hjk81qSnAXjHjjE0vY0QrFxbyiwTGmPySw=s64",
      "userId": "08915794686434457753"
     },
     "user_tz": -420
    },
    "id": "IZiGvdRS4DYE",
    "outputId": "091fb4cb-5732-4a5c-f630-7d98ed06828f"
   },
   "outputs": [
    {
     "data": {
      "image/png": "[encoded data removed]",
      "text/plain": [
       "<Figure size 720x360 with 1 Axes>"
      ]
     },
     "metadata": {},
     "output_type": "display_data"
    }
   ],
   "source": [
    "sns.countplot(data = data_visual, x = 'contact', hue = 'y');"
   ]
  },
  {
   "cell_type": "code",
   "execution_count": 51,
   "metadata": {
    "colab": {
     "base_uri": "https://localhost:8080/",
     "height": 341
    },
    "executionInfo": {
     "elapsed": 76,
     "status": "ok",
     "timestamp": 1639199124654,
     "user": {
      "displayName": "Yoga Arif Prasetyo",
      "photoUrl": "https://lh3.googleusercontent.com/a-/AOh14GhIHOM0hjk81qSnAXjHjjE0vY0QrFxbyiwTGmPySw=s64",
      "userId": "08915794686434457753"
     },
     "user_tz": -420
    },
    "id": "kKK3iDUS4FoJ",
    "outputId": "3c35a77f-9b6c-4ec2-8173-e5fe31971820"
   },
   "outputs": [
    {
     "data": {
      "image/png": "[encoded data removed]",
      "text/plain": [
       "<Figure size 720x360 with 1 Axes>"
      ]
     },
     "metadata": {},
     "output_type": "display_data"
    }
   ],
   "source": [
    "sns.barplot(data = df_contact_group, x = 'contact', y = 'ratio', hue = 'y');"
   ]
  },
  {
   "cell_type": "markdown",
   "metadata": {
    "id": "1uWCBAgasZyD"
   },
   "source": [
    "### Month"
   ]
  },
  {
   "cell_type": "markdown",
   "metadata": {
    "id": "jf7TOnKZsZyD"
   },
   "source": [
    "**Secara rasio lebih banyak yang membuka deposito di bulan desember (46%) (214), maret (51%) (477), oktober (43%) (738), dan september (46%) (579). namun perusahaan lebih sering melakukan campaign di bulan mei (6%) (13766), diikuti juli (9%) (6895) dan agustus (11%) (6247) lalu juni (10%) (5341).**"
   ]
  },
  {
   "cell_type": "code",
   "execution_count": 52,
   "metadata": {
    "colab": {
     "base_uri": "https://localhost:8080/",
     "height": 339
    },
    "executionInfo": {
     "elapsed": 75,
     "status": "ok",
     "timestamp": 1639199124656,
     "user": {
      "displayName": "Yoga Arif Prasetyo",
      "photoUrl": "https://lh3.googleusercontent.com/a-/AOh14GhIHOM0hjk81qSnAXjHjjE0vY0QrFxbyiwTGmPySw=s64",
      "userId": "08915794686434457753"
     },
     "user_tz": -420
    },
    "id": "q2L_tlZlsZyE",
    "outputId": "3f6a3d3a-a820-4ac6-9798-f2844bb33330"
   },
   "outputs": [
    {
     "data": {
      "image/png": "[encoded data removed]",
      "text/plain": [
       "<Figure size 720x360 with 1 Axes>"
      ]
     },
     "metadata": {},
     "output_type": "display_data"
    }
   ],
   "source": [
    "order_month = ['jan', 'feb', 'mar', 'apr', 'may', 'jun', 'jul', 'aug', 'sep', 'oct', 'nov', 'dec']\n",
    "sns.countplot(data = data_visual, x = 'month', hue = 'y', order = order_month);"
   ]
  },
  {
   "cell_type": "code",
   "execution_count": 53,
   "metadata": {
    "id": "ex2zLnFf4Q7R"
   },
   "outputs": [],
   "source": [
    "df_month = data_visual.copy()\n",
    "df_month_group = df_month.groupby(['month', 'y'])['job'].count().reset_index()\n",
    "df_month_group.columns = ['month', 'y', 'count']\n",
    "df_month_group['total_per_count'] = df_month_group.groupby(['month'])['count'].transform('sum')\n",
    "df_month_group['ratio'] = (df_month_group['count']/df_month_group['total_per_count'])*100"
   ]
  },
  {
   "cell_type": "code",
   "execution_count": 54,
   "metadata": {
    "colab": {
     "base_uri": "https://localhost:8080/",
     "height": 339
    },
    "executionInfo": {
     "elapsed": 700,
     "status": "ok",
     "timestamp": 1639199125285,
     "user": {
      "displayName": "Yoga Arif Prasetyo",
      "photoUrl": "https://lh3.googleusercontent.com/a-/AOh14GhIHOM0hjk81qSnAXjHjjE0vY0QrFxbyiwTGmPySw=s64",
      "userId": "08915794686434457753"
     },
     "user_tz": -420
    },
    "id": "o5a1cdVW4Tlf",
    "outputId": "8af99199-3440-444f-a812-f4b6f52c9bb7"
   },
   "outputs": [
    {
     "data": {
      "image/png": "[encoded data removed]",
      "text/plain": [
       "<Figure size 720x360 with 1 Axes>"
      ]
     },
     "metadata": {},
     "output_type": "display_data"
    }
   ],
   "source": [
    "sns.barplot(data = df_month_group, x = 'month', y = 'ratio', hue = 'y', order = order_month);"
   ]
  },
  {
   "cell_type": "markdown",
   "metadata": {
    "id": "6_t6qeyIsZyE"
   },
   "source": [
    "### Day"
   ]
  },
  {
   "cell_type": "markdown",
   "metadata": {
    "id": "K7wfrQnksZyF"
   },
   "source": [
    "**Day tidak mempengaruhi pembukaan deposito, entah itu awal, tengah, atau akhir bulan. Naik/turunnya nilai Day terlihat bergantung pada Month**"
   ]
  },
  {
   "cell_type": "code",
   "execution_count": 55,
   "metadata": {
    "id": "uFXM-s024b7o"
   },
   "outputs": [],
   "source": [
    "def day_month(x):\n",
    "    if x <= 10:\n",
    "        group = 'beginning'\n",
    "    elif x <= 20:\n",
    "        group = 'middle'\n",
    "    else:\n",
    "        group = 'end'\n",
    "    return group"
   ]
  },
  {
   "cell_type": "code",
   "execution_count": 56,
   "metadata": {
    "colab": {
     "base_uri": "https://localhost:8080/",
     "height": 206
    },
    "executionInfo": {
     "elapsed": 23,
     "status": "ok",
     "timestamp": 1639199125287,
     "user": {
      "displayName": "Yoga Arif Prasetyo",
      "photoUrl": "https://lh3.googleusercontent.com/a-/AOh14GhIHOM0hjk81qSnAXjHjjE0vY0QrFxbyiwTGmPySw=s64",
      "userId": "08915794686434457753"
     },
     "user_tz": -420
    },
    "id": "-elDQTk8sZyF",
    "outputId": "e68682c7-381d-4e1e-cb60-5c318e95b5e3"
   },
   "outputs": [
    {
     "data": {
      "text/html": [
       "<div>\n",
       "<style scoped>\n",
       "    .dataframe tbody tr th:only-of-type {\n",
       "        vertical-align: middle;\n",
       "    }\n",
       "\n",
       "    .dataframe tbody tr th {\n",
       "        vertical-align: top;\n",
       "    }\n",
       "\n",
       "    .dataframe thead th {\n",
       "        text-align: right;\n",
       "    }\n",
       "</style>\n",
       "<table border=\"1\" class=\"dataframe\">\n",
       "  <thead>\n",
       "    <tr style=\"text-align: right;\">\n",
       "      <th></th>\n",
       "      <th>age</th>\n",
       "      <th>job</th>\n",
       "      <th>marital</th>\n",
       "      <th>education</th>\n",
       "      <th>default</th>\n",
       "      <th>balance</th>\n",
       "      <th>housing</th>\n",
       "      <th>loan</th>\n",
       "      <th>contact</th>\n",
       "      <th>day</th>\n",
       "      <th>...</th>\n",
       "      <th>pdays</th>\n",
       "      <th>previous</th>\n",
       "      <th>poutcome</th>\n",
       "      <th>y</th>\n",
       "      <th>cost</th>\n",
       "      <th>job_group</th>\n",
       "      <th>balgroup</th>\n",
       "      <th>age_group</th>\n",
       "      <th>y_num</th>\n",
       "      <th>day_month</th>\n",
       "    </tr>\n",
       "  </thead>\n",
       "  <tbody>\n",
       "    <tr>\n",
       "      <th>0</th>\n",
       "      <td>58</td>\n",
       "      <td>management</td>\n",
       "      <td>married</td>\n",
       "      <td>tertiary</td>\n",
       "      <td>no</td>\n",
       "      <td>2143</td>\n",
       "      <td>yes</td>\n",
       "      <td>no</td>\n",
       "      <td>unknown</td>\n",
       "      <td>5</td>\n",
       "      <td>...</td>\n",
       "      <td>-1</td>\n",
       "      <td>0</td>\n",
       "      <td>unknown</td>\n",
       "      <td>no</td>\n",
       "      <td>2.61</td>\n",
       "      <td>employee</td>\n",
       "      <td>&gt;= 1428</td>\n",
       "      <td>50 - 65</td>\n",
       "      <td>0</td>\n",
       "      <td>beginning</td>\n",
       "    </tr>\n",
       "    <tr>\n",
       "      <th>1</th>\n",
       "      <td>44</td>\n",
       "      <td>technician</td>\n",
       "      <td>single</td>\n",
       "      <td>secondary</td>\n",
       "      <td>no</td>\n",
       "      <td>29</td>\n",
       "      <td>yes</td>\n",
       "      <td>no</td>\n",
       "      <td>unknown</td>\n",
       "      <td>5</td>\n",
       "      <td>...</td>\n",
       "      <td>-1</td>\n",
       "      <td>0</td>\n",
       "      <td>unknown</td>\n",
       "      <td>no</td>\n",
       "      <td>1.51</td>\n",
       "      <td>employee</td>\n",
       "      <td>1 - 286</td>\n",
       "      <td>34 - 49</td>\n",
       "      <td>0</td>\n",
       "      <td>beginning</td>\n",
       "    </tr>\n",
       "    <tr>\n",
       "      <th>2</th>\n",
       "      <td>33</td>\n",
       "      <td>entrepreneur</td>\n",
       "      <td>married</td>\n",
       "      <td>secondary</td>\n",
       "      <td>no</td>\n",
       "      <td>2</td>\n",
       "      <td>yes</td>\n",
       "      <td>yes</td>\n",
       "      <td>unknown</td>\n",
       "      <td>5</td>\n",
       "      <td>...</td>\n",
       "      <td>-1</td>\n",
       "      <td>0</td>\n",
       "      <td>unknown</td>\n",
       "      <td>no</td>\n",
       "      <td>0.76</td>\n",
       "      <td>self-employed</td>\n",
       "      <td>1 - 286</td>\n",
       "      <td>18 - 33</td>\n",
       "      <td>0</td>\n",
       "      <td>beginning</td>\n",
       "    </tr>\n",
       "    <tr>\n",
       "      <th>3</th>\n",
       "      <td>47</td>\n",
       "      <td>blue-collar</td>\n",
       "      <td>married</td>\n",
       "      <td>unknown</td>\n",
       "      <td>no</td>\n",
       "      <td>1506</td>\n",
       "      <td>yes</td>\n",
       "      <td>no</td>\n",
       "      <td>unknown</td>\n",
       "      <td>5</td>\n",
       "      <td>...</td>\n",
       "      <td>-1</td>\n",
       "      <td>0</td>\n",
       "      <td>unknown</td>\n",
       "      <td>no</td>\n",
       "      <td>0.92</td>\n",
       "      <td>manual labor</td>\n",
       "      <td>&gt;= 1428</td>\n",
       "      <td>34 - 49</td>\n",
       "      <td>0</td>\n",
       "      <td>beginning</td>\n",
       "    </tr>\n",
       "    <tr>\n",
       "      <th>4</th>\n",
       "      <td>33</td>\n",
       "      <td>unknown</td>\n",
       "      <td>single</td>\n",
       "      <td>unknown</td>\n",
       "      <td>no</td>\n",
       "      <td>1</td>\n",
       "      <td>no</td>\n",
       "      <td>no</td>\n",
       "      <td>unknown</td>\n",
       "      <td>5</td>\n",
       "      <td>...</td>\n",
       "      <td>-1</td>\n",
       "      <td>0</td>\n",
       "      <td>unknown</td>\n",
       "      <td>no</td>\n",
       "      <td>1.98</td>\n",
       "      <td>unknown</td>\n",
       "      <td>1 - 286</td>\n",
       "      <td>18 - 33</td>\n",
       "      <td>0</td>\n",
       "      <td>beginning</td>\n",
       "    </tr>\n",
       "  </tbody>\n",
       "</table>\n",
       "<p>5 rows × 23 columns</p>\n",
       "</div>"
      ],
      "text/plain": [
       "   age           job  marital  education default  balance housing loan  \\\n",
       "0   58    management  married   tertiary      no     2143     yes   no   \n",
       "1   44    technician   single  secondary      no       29     yes   no   \n",
       "2   33  entrepreneur  married  secondary      no        2     yes  yes   \n",
       "3   47   blue-collar  married    unknown      no     1506     yes   no   \n",
       "4   33       unknown   single    unknown      no        1      no   no   \n",
       "\n",
       "   contact  day  ... pdays  previous  poutcome   y  cost      job_group  \\\n",
       "0  unknown    5  ...    -1         0   unknown  no  2.61       employee   \n",
       "1  unknown    5  ...    -1         0   unknown  no  1.51       employee   \n",
       "2  unknown    5  ...    -1         0   unknown  no  0.76  self-employed   \n",
       "3  unknown    5  ...    -1         0   unknown  no  0.92   manual labor   \n",
       "4  unknown    5  ...    -1         0   unknown  no  1.98        unknown   \n",
       "\n",
       "  balgroup  age_group y_num  day_month  \n",
       "0  >= 1428    50 - 65     0  beginning  \n",
       "1  1 - 286    34 - 49     0  beginning  \n",
       "2  1 - 286    18 - 33     0  beginning  \n",
       "3  >= 1428    34 - 49     0  beginning  \n",
       "4  1 - 286    18 - 33     0  beginning  \n",
       "\n",
       "[5 rows x 23 columns]"
      ]
     },
     "execution_count": 56,
     "metadata": {},
     "output_type": "execute_result"
    }
   ],
   "source": [
    "data_visual['day_month']=data_visual.apply(lambda x: day_month(x['day']),axis=1)\n",
    "data_visual.head()"
   ]
  },
  {
   "cell_type": "code",
   "execution_count": 57,
   "metadata": {
    "colab": {
     "base_uri": "https://localhost:8080/",
     "height": 339
    },
    "executionInfo": {
     "elapsed": 22,
     "status": "ok",
     "timestamp": 1639199125288,
     "user": {
      "displayName": "Yoga Arif Prasetyo",
      "photoUrl": "https://lh3.googleusercontent.com/a-/AOh14GhIHOM0hjk81qSnAXjHjjE0vY0QrFxbyiwTGmPySw=s64",
      "userId": "08915794686434457753"
     },
     "user_tz": -420
    },
    "id": "Ly88sBDEsZyF",
    "outputId": "5ff4ba3e-c503-4c39-d760-530590b38406"
   },
   "outputs": [
    {
     "data": {
      "image/png": "[encoded data removed]",
      "text/plain": [
       "<Figure size 720x360 with 1 Axes>"
      ]
     },
     "metadata": {},
     "output_type": "display_data"
    }
   ],
   "source": [
    "sns.countplot(data = data_visual, x = 'day', hue = 'y');"
   ]
  },
  {
   "cell_type": "code",
   "execution_count": 58,
   "metadata": {
    "id": "cNGTTsN7sZyG"
   },
   "outputs": [],
   "source": [
    "df_month_day = data_visual.copy()\n",
    "df_month_day_group = df_month_day.groupby(['month', 'day_month', 'y'])['job'].count().reset_index()\n",
    "df_month_day_group.columns = ['month', 'day_month', 'y', 'count']\n",
    "df_month_day_group['total_per_count'] = df_month_day_group.groupby(['month', 'day_month'])['count'].transform('sum')\n",
    "df_month_day_group['ratio'] = (df_month_day_group['count']/df_month_day_group['total_per_count'])*100\n",
    "df_d = df_month_day_group.copy()"
   ]
  },
  {
   "cell_type": "code",
   "execution_count": 59,
   "metadata": {
    "id": "dkW_1wu6sZyG"
   },
   "outputs": [],
   "source": [
    "def no_month(x):\n",
    "    if x == 'jan':\n",
    "        no_ = 1\n",
    "    elif x == 'feb':\n",
    "        no_ = 2\n",
    "    elif x == 'mar':\n",
    "        no_ = 3\n",
    "    elif x == 'apr':\n",
    "        no_ = 4\n",
    "    elif x == 'may':\n",
    "        no_ = 5\n",
    "    elif x == 'jun':\n",
    "        no_ = 6\n",
    "    elif x == 'jul':\n",
    "        no_ = 7\n",
    "    elif x == 'aug':\n",
    "        no_ = 8\n",
    "    elif x == 'sep':\n",
    "        no_ = 9\n",
    "    elif x == 'oct':\n",
    "        no_ = 10\n",
    "    elif x == 'nov':\n",
    "        no_ = 11\n",
    "    else:\n",
    "        no_ = 'dec'\n",
    "    return no_\n",
    "\n",
    "def no_day(x):\n",
    "    if x == 'beginning':\n",
    "        no_ = 1\n",
    "    elif x == 'middle':\n",
    "        no_ = 2\n",
    "    else:\n",
    "        no_ = 3\n",
    "    return no_\n",
    "\n",
    "df_d['month_no']=df_d.apply(lambda x: no_month(x['month']),axis=1)\n",
    "df_d['day_no']=df_d.apply(lambda x: no_day(x['day_month']),axis=1)"
   ]
  },
  {
   "cell_type": "code",
   "execution_count": 60,
   "metadata": {
    "colab": {
     "base_uri": "https://localhost:8080/",
     "height": 424
    },
    "executionInfo": {
     "elapsed": 23,
     "status": "ok",
     "timestamp": 1639199125291,
     "user": {
      "displayName": "Yoga Arif Prasetyo",
      "photoUrl": "https://lh3.googleusercontent.com/a-/AOh14GhIHOM0hjk81qSnAXjHjjE0vY0QrFxbyiwTGmPySw=s64",
      "userId": "08915794686434457753"
     },
     "user_tz": -420
    },
    "id": "qG-Fto5hsZyG",
    "outputId": "37f266ae-d813-4256-9688-50f0116d44b4"
   },
   "outputs": [
    {
     "data": {
      "text/html": [
       "<div>\n",
       "<style scoped>\n",
       "    .dataframe tbody tr th:only-of-type {\n",
       "        vertical-align: middle;\n",
       "    }\n",
       "\n",
       "    .dataframe tbody tr th {\n",
       "        vertical-align: top;\n",
       "    }\n",
       "\n",
       "    .dataframe thead th {\n",
       "        text-align: right;\n",
       "    }\n",
       "</style>\n",
       "<table border=\"1\" class=\"dataframe\">\n",
       "  <thead>\n",
       "    <tr style=\"text-align: right;\">\n",
       "      <th></th>\n",
       "      <th>month</th>\n",
       "      <th>day_month</th>\n",
       "      <th>y</th>\n",
       "      <th>count</th>\n",
       "      <th>total_per_count</th>\n",
       "      <th>ratio</th>\n",
       "      <th>month_no</th>\n",
       "      <th>day_no</th>\n",
       "      <th>day_of_month</th>\n",
       "    </tr>\n",
       "  </thead>\n",
       "  <tbody>\n",
       "    <tr>\n",
       "      <th>0</th>\n",
       "      <td>jan</td>\n",
       "      <td>beginning</td>\n",
       "      <td>no</td>\n",
       "      <td>8</td>\n",
       "      <td>11</td>\n",
       "      <td>72.727273</td>\n",
       "      <td>1</td>\n",
       "      <td>1</td>\n",
       "      <td>jan beginning</td>\n",
       "    </tr>\n",
       "    <tr>\n",
       "      <th>1</th>\n",
       "      <td>jan</td>\n",
       "      <td>beginning</td>\n",
       "      <td>yes</td>\n",
       "      <td>3</td>\n",
       "      <td>11</td>\n",
       "      <td>27.272727</td>\n",
       "      <td>1</td>\n",
       "      <td>1</td>\n",
       "      <td>jan beginning</td>\n",
       "    </tr>\n",
       "    <tr>\n",
       "      <th>2</th>\n",
       "      <td>jan</td>\n",
       "      <td>middle</td>\n",
       "      <td>no</td>\n",
       "      <td>49</td>\n",
       "      <td>104</td>\n",
       "      <td>47.115385</td>\n",
       "      <td>1</td>\n",
       "      <td>2</td>\n",
       "      <td>jan middle</td>\n",
       "    </tr>\n",
       "    <tr>\n",
       "      <th>3</th>\n",
       "      <td>jan</td>\n",
       "      <td>middle</td>\n",
       "      <td>yes</td>\n",
       "      <td>55</td>\n",
       "      <td>104</td>\n",
       "      <td>52.884615</td>\n",
       "      <td>1</td>\n",
       "      <td>2</td>\n",
       "      <td>jan middle</td>\n",
       "    </tr>\n",
       "    <tr>\n",
       "      <th>4</th>\n",
       "      <td>jan</td>\n",
       "      <td>end</td>\n",
       "      <td>no</td>\n",
       "      <td>1204</td>\n",
       "      <td>1288</td>\n",
       "      <td>93.478261</td>\n",
       "      <td>1</td>\n",
       "      <td>3</td>\n",
       "      <td>jan end</td>\n",
       "    </tr>\n",
       "    <tr>\n",
       "      <th>...</th>\n",
       "      <td>...</td>\n",
       "      <td>...</td>\n",
       "      <td>...</td>\n",
       "      <td>...</td>\n",
       "      <td>...</td>\n",
       "      <td>...</td>\n",
       "      <td>...</td>\n",
       "      <td>...</td>\n",
       "      <td>...</td>\n",
       "    </tr>\n",
       "    <tr>\n",
       "      <th>67</th>\n",
       "      <td>dec</td>\n",
       "      <td>beginning</td>\n",
       "      <td>yes</td>\n",
       "      <td>46</td>\n",
       "      <td>99</td>\n",
       "      <td>46.464646</td>\n",
       "      <td>dec</td>\n",
       "      <td>1</td>\n",
       "      <td>dec beginning</td>\n",
       "    </tr>\n",
       "    <tr>\n",
       "      <th>68</th>\n",
       "      <td>dec</td>\n",
       "      <td>middle</td>\n",
       "      <td>no</td>\n",
       "      <td>28</td>\n",
       "      <td>50</td>\n",
       "      <td>56.000000</td>\n",
       "      <td>dec</td>\n",
       "      <td>2</td>\n",
       "      <td>dec middle</td>\n",
       "    </tr>\n",
       "    <tr>\n",
       "      <th>69</th>\n",
       "      <td>dec</td>\n",
       "      <td>middle</td>\n",
       "      <td>yes</td>\n",
       "      <td>22</td>\n",
       "      <td>50</td>\n",
       "      <td>44.000000</td>\n",
       "      <td>dec</td>\n",
       "      <td>2</td>\n",
       "      <td>dec middle</td>\n",
       "    </tr>\n",
       "    <tr>\n",
       "      <th>70</th>\n",
       "      <td>dec</td>\n",
       "      <td>end</td>\n",
       "      <td>no</td>\n",
       "      <td>33</td>\n",
       "      <td>65</td>\n",
       "      <td>50.769231</td>\n",
       "      <td>dec</td>\n",
       "      <td>3</td>\n",
       "      <td>dec end</td>\n",
       "    </tr>\n",
       "    <tr>\n",
       "      <th>71</th>\n",
       "      <td>dec</td>\n",
       "      <td>end</td>\n",
       "      <td>yes</td>\n",
       "      <td>32</td>\n",
       "      <td>65</td>\n",
       "      <td>49.230769</td>\n",
       "      <td>dec</td>\n",
       "      <td>3</td>\n",
       "      <td>dec end</td>\n",
       "    </tr>\n",
       "  </tbody>\n",
       "</table>\n",
       "<p>72 rows × 9 columns</p>\n",
       "</div>"
      ],
      "text/plain": [
       "   month  day_month    y  count  total_per_count      ratio month_no  day_no  \\\n",
       "0    jan  beginning   no      8               11  72.727273        1       1   \n",
       "1    jan  beginning  yes      3               11  27.272727        1       1   \n",
       "2    jan     middle   no     49              104  47.115385        1       2   \n",
       "3    jan     middle  yes     55              104  52.884615        1       2   \n",
       "4    jan        end   no   1204             1288  93.478261        1       3   \n",
       "..   ...        ...  ...    ...              ...        ...      ...     ...   \n",
       "67   dec  beginning  yes     46               99  46.464646      dec       1   \n",
       "68   dec     middle   no     28               50  56.000000      dec       2   \n",
       "69   dec     middle  yes     22               50  44.000000      dec       2   \n",
       "70   dec        end   no     33               65  50.769231      dec       3   \n",
       "71   dec        end  yes     32               65  49.230769      dec       3   \n",
       "\n",
       "     day_of_month  \n",
       "0   jan beginning  \n",
       "1   jan beginning  \n",
       "2      jan middle  \n",
       "3      jan middle  \n",
       "4         jan end  \n",
       "..            ...  \n",
       "67  dec beginning  \n",
       "68     dec middle  \n",
       "69     dec middle  \n",
       "70        dec end  \n",
       "71        dec end  \n",
       "\n",
       "[72 rows x 9 columns]"
      ]
     },
     "execution_count": 60,
     "metadata": {},
     "output_type": "execute_result"
    }
   ],
   "source": [
    "df_sorted = df_d.sort_values( ['month_no', 'day_no'] , ascending=True).reset_index()\n",
    "df_sorted.drop('index', axis=1, inplace=True)\n",
    "df_sorted['day_of_month']=df_sorted.apply(lambda x: x['month'] + ' ' + x['day_month'],axis=1)\n",
    "df_sorted"
   ]
  },
  {
   "cell_type": "code",
   "execution_count": 61,
   "metadata": {
    "colab": {
     "base_uri": "https://localhost:8080/",
     "height": 611
    },
    "executionInfo": {
     "elapsed": 1479,
     "status": "ok",
     "timestamp": 1639199126748,
     "user": {
      "displayName": "Yoga Arif Prasetyo",
      "photoUrl": "https://lh3.googleusercontent.com/a-/AOh14GhIHOM0hjk81qSnAXjHjjE0vY0QrFxbyiwTGmPySw=s64",
      "userId": "08915794686434457753"
     },
     "user_tz": -420
    },
    "id": "_U4mvcp7sZyH",
    "outputId": "8e7e3121-361c-4ba2-b84a-a07ab23fa085"
   },
   "outputs": [
    {
     "data": {
      "image/png": "[encoded data removed]",
      "text/plain": [
       "<Figure size 936x720 with 1 Axes>"
      ]
     },
     "metadata": {},
     "output_type": "display_data"
    }
   ],
   "source": [
    "plt.figure(figsize = (13, 10))\n",
    "sns.barplot(data = df_sorted, x= 'count', y = 'day_of_month', hue = 'y');"
   ]
  },
  {
   "cell_type": "markdown",
   "metadata": {
    "id": "0zFIOZQLTnR6"
   },
   "source": [
    "### Campaign"
   ]
  },
  {
   "cell_type": "markdown",
   "metadata": {
    "id": "Kgia2weWsZx8"
   },
   "source": [
    "Dari data kolom **campaign** ditemukan bahwa mayoritas customer yang akhirnya membuka rekening deposito hanya cukup dihubungi 2-3 kali. <br> <br>\n",
    "Sehingga dari pola yang ditemukan ini, saran yang dapat diberikan kepada tim marketing adalah membatasi jumlah kontak yang dilakukan ke masing-masing maksimal sampai 3 kali saja, karena bisa meningkatkan dari sisi efisiensi ataupun resource yang tersedia dapat dialihkan untuk melakukan approach ke customer lainnya."
   ]
  },
  {
   "cell_type": "code",
   "execution_count": 62,
   "metadata": {
    "colab": {
     "base_uri": "https://localhost:8080/",
     "height": 299
    },
    "executionInfo": {
     "elapsed": 1476,
     "status": "ok",
     "timestamp": 1639621849902,
     "user": {
      "displayName": "Hans Halwi",
      "photoUrl": "https://lh3.googleusercontent.com/a/default-user=s64",
      "userId": "09772554882127127798"
     },
     "user_tz": -420
    },
    "id": "aDzHHt5VGBpa",
    "outputId": "5ac68b97-448c-41cd-e4ac-1d9dd4a23016"
   },
   "outputs": [
    {
     "data": {
      "image/png": "[encoded data removed]",
      "text/plain": [
       "<Figure size 720x360 with 1 Axes>"
      ]
     },
     "metadata": {},
     "output_type": "display_data"
    }
   ],
   "source": [
    "sns.stripplot(data=data_visual, x='campaign', y='y')\n",
    "\n",
    "plt.title('Numbers of Contacts to Customer during Campaign')\n",
    "plt.xlabel('Numbers of contact',fontsize=10)\n",
    "plt.ylabel('Customer decision',fontsize=10);"
   ]
  },
  {
   "cell_type": "code",
   "execution_count": 63,
   "metadata": {
    "colab": {
     "base_uri": "https://localhost:8080/",
     "height": 299
    },
    "executionInfo": {
     "elapsed": 487,
     "status": "ok",
     "timestamp": 1639621889640,
     "user": {
      "displayName": "Hans Halwi",
      "photoUrl": "https://lh3.googleusercontent.com/a/default-user=s64",
      "userId": "09772554882127127798"
     },
     "user_tz": -420
    },
    "id": "S5isLcAcFDbw",
    "outputId": "3c6f4758-a91b-4434-f142-327daf070e40"
   },
   "outputs": [
    {
     "data": {
      "image/png": "[encoded data removed]",
      "text/plain": [
       "<Figure size 720x360 with 1 Axes>"
      ]
     },
     "metadata": {},
     "output_type": "display_data"
    }
   ],
   "source": [
    "df_campaign = data_visual.loc[df['campaign']<=10] ## Untuk lebih lihat detil sebaran keputusan customer, karena mayoritas yang membuka dihubungi <10 kali\n",
    "\n",
    "sns.boxplot(data=df_campaign, x='campaign', y='y')\n",
    "plt.title('Numbers of Contacts to Customer during Campaign')\n",
    "plt.xlabel('Numbers of contact',fontsize=10)\n",
    "plt.ylabel('Customer decision',fontsize=10);"
   ]
  },
  {
   "cell_type": "markdown",
   "metadata": {
    "id": "Wz3IbWF8sZx8"
   },
   "source": [
    "### Pdays"
   ]
  },
  {
   "cell_type": "markdown",
   "metadata": {
    "id": "-GZCcM_lsZx8"
   },
   "source": [
    "Dari data kolom **pdays** ditemukan bahwa mayoritas customer yang akhirnya membuka rekening deposito pernah dihubungi dalam jangka waktu 200 hari terakhir. <br> <br> \n",
    "Melihat pola ini, saran yang dapat diberikan kepada tim marketing/terkait adalah memastikan untuk melakukan follow up secara berkala, khususnya customer-customer potensial. <br> <br>\n",
    "Dengan follow up yang dilakukan secara berkala ini, diharapkan dapat customer engagement dapat meningkat dan berdampak pada tingkat penjualan produk-produk Bank Portugal secara menyeluruh."
   ]
  },
  {
   "cell_type": "code",
   "execution_count": 64,
   "metadata": {
    "colab": {
     "base_uri": "https://localhost:8080/",
     "height": 299
    },
    "executionInfo": {
     "elapsed": 1605,
     "status": "ok",
     "timestamp": 1639621938178,
     "user": {
      "displayName": "Hans Halwi",
      "photoUrl": "https://lh3.googleusercontent.com/a/default-user=s64",
      "userId": "09772554882127127798"
     },
     "user_tz": -420
    },
    "id": "3PDB1DwHGB5d",
    "outputId": "d25b769c-9cfa-4c72-9334-94cb04aeb7d1"
   },
   "outputs": [
    {
     "data": {
      "image/png": "[encoded data removed]",
      "text/plain": [
       "<Figure size 720x360 with 1 Axes>"
      ]
     },
     "metadata": {},
     "output_type": "display_data"
    }
   ],
   "source": [
    "sns.stripplot(data=data_visual, x='pdays', y='y')\n",
    "\n",
    "plt.title('Number of Days Customer Last Contacted')\n",
    "plt.xlabel('Number of days',fontsize=10)\n",
    "plt.ylabel('Customer decision',fontsize=10);"
   ]
  },
  {
   "cell_type": "code",
   "execution_count": 65,
   "metadata": {
    "executionInfo": {
     "elapsed": 3,
     "status": "ok",
     "timestamp": 1639621960026,
     "user": {
      "displayName": "Hans Halwi",
      "photoUrl": "https://lh3.googleusercontent.com/a/default-user=s64",
      "userId": "09772554882127127798"
     },
     "user_tz": -420
    },
    "id": "cnwyrDGPFVvk"
   },
   "outputs": [],
   "source": [
    "pdays_clean = data_visual.loc[df['pdays']!=-1] ## Exclude orang-orang yang belum pernah dikontak sebelumnya\n",
    "pdays_yes = pdays_clean.loc[pdays_clean['y']=='yes']\n",
    "pdays_no = pdays_clean.loc[pdays_clean['y']=='no']"
   ]
  },
  {
   "cell_type": "code",
   "execution_count": 66,
   "metadata": {
    "colab": {
     "base_uri": "https://localhost:8080/",
     "height": 299
    },
    "executionInfo": {
     "elapsed": 562,
     "status": "ok",
     "timestamp": 1639621978219,
     "user": {
      "displayName": "Hans Halwi",
      "photoUrl": "https://lh3.googleusercontent.com/a/default-user=s64",
      "userId": "09772554882127127798"
     },
     "user_tz": -420
    },
    "id": "CHPioSRtFatX",
    "outputId": "ae4d4700-916d-48df-c507-929be3409bd7"
   },
   "outputs": [
    {
     "data": {
      "image/png": "[encoded data removed]",
      "text/plain": [
       "<Figure size 720x360 with 1 Axes>"
      ]
     },
     "metadata": {},
     "output_type": "display_data"
    }
   ],
   "source": [
    "sns.kdeplot(data=pdays_yes, x='pdays')\n",
    "\n",
    "plt.title('Distribution of Number of Days Customer Last Contacted (Yes)')\n",
    "plt.xlabel('Number of days',fontsize=10);"
   ]
  },
  {
   "cell_type": "code",
   "execution_count": 67,
   "metadata": {
    "colab": {
     "base_uri": "https://localhost:8080/",
     "height": 299
    },
    "executionInfo": {
     "elapsed": 534,
     "status": "ok",
     "timestamp": 1639621991472,
     "user": {
      "displayName": "Hans Halwi",
      "photoUrl": "https://lh3.googleusercontent.com/a/default-user=s64",
      "userId": "09772554882127127798"
     },
     "user_tz": -420
    },
    "id": "UpajHOMgFfrC",
    "outputId": "47a49e7f-27fb-41c0-a99c-8125b8e4ebd5"
   },
   "outputs": [
    {
     "data": {
      "image/png": "[encoded data removed]",
      "text/plain": [
       "<Figure size 720x360 with 1 Axes>"
      ]
     },
     "metadata": {},
     "output_type": "display_data"
    }
   ],
   "source": [
    "sns.kdeplot(data=pdays_no, x='pdays')\n",
    "\n",
    "plt.title('Distribution of Number of Days Customer Last Contacted (No)')\n",
    "plt.xlabel('Number of days',fontsize=10);"
   ]
  },
  {
   "cell_type": "markdown",
   "metadata": {
    "id": "AcOEVO9jsZx9"
   },
   "source": [
    "### Previous"
   ]
  },
  {
   "cell_type": "markdown",
   "metadata": {
    "id": "M1l5u0S-sZx9"
   },
   "source": [
    "Dari data kolom **previous** ditemukan bahwa mayoritas customer yang membuka tabungan deposito pernah dihubungi sebanyak 1-2 kali sebelum campaign berlangsung. <br> <br> \n",
    "Hal ini selaras dengan temuan pada kolom **pdays** dimana mayoritas customer yang membuka tabungan deposito pernah dihubungi dalam jangka waktu 200 hari terakhir. <br> <br>\n",
    "Sehingga, saran yang diberikan ke tim marketing/terkait sebelumnya semakin diperkuat dengan temuan pada data kolom **previous**."
   ]
  },
  {
   "cell_type": "code",
   "execution_count": 68,
   "metadata": {
    "colab": {
     "base_uri": "https://localhost:8080/",
     "height": 299
    },
    "executionInfo": {
     "elapsed": 1741,
     "status": "ok",
     "timestamp": 1639622037396,
     "user": {
      "displayName": "Hans Halwi",
      "photoUrl": "https://lh3.googleusercontent.com/a/default-user=s64",
      "userId": "09772554882127127798"
     },
     "user_tz": -420
    },
    "id": "oHy7xDaIGCDf",
    "outputId": "a69fa562-698d-424b-ba37-a4e9c42fc4d7"
   },
   "outputs": [
    {
     "data": {
      "image/png": "[encoded data removed]",
      "text/plain": [
       "<Figure size 720x360 with 1 Axes>"
      ]
     },
     "metadata": {},
     "output_type": "display_data"
    }
   ],
   "source": [
    "sns.stripplot(data=data_visual, x='previous', y='y')\n",
    "\n",
    "plt.title('Numbers of Contacts to Customer before Campaign')\n",
    "plt.xlabel('Numbers of contact',fontsize=10)\n",
    "plt.ylabel('Customer decision',fontsize=10);"
   ]
  },
  {
   "cell_type": "code",
   "execution_count": 69,
   "metadata": {
    "colab": {
     "base_uri": "https://localhost:8080/",
     "height": 299
    },
    "executionInfo": {
     "elapsed": 1134,
     "status": "ok",
     "timestamp": 1639622049869,
     "user": {
      "displayName": "Hans Halwi",
      "photoUrl": "https://lh3.googleusercontent.com/a/default-user=s64",
      "userId": "09772554882127127798"
     },
     "user_tz": -420
    },
    "id": "A8BF9gl_FtlF",
    "outputId": "8bdde669-b2fe-4e36-a667-3562c15f213a"
   },
   "outputs": [
    {
     "data": {
      "image/png": "[encoded data removed]",
      "text/plain": [
       "<Figure size 720x360 with 1 Axes>"
      ]
     },
     "metadata": {},
     "output_type": "display_data"
    }
   ],
   "source": [
    "previous_vis = df.loc[df['previous']<=5] ##Untuk melihat lebih rinci sebaran customer pada kategori yes\n",
    "\n",
    "sns.boxplot(data=previous_vis, x='previous', y='y')\n",
    "\n",
    "plt.title('Numbers of Contacts to Customer before Campaign')\n",
    "plt.xlabel('Numbers of contact',fontsize=10)\n",
    "plt.ylabel('Customer decision',fontsize=10);"
   ]
  },
  {
   "cell_type": "markdown",
   "metadata": {
    "id": "LNMUyx9SsZx9"
   },
   "source": [
    "### Poutcome"
   ]
  },
  {
   "cell_type": "markdown",
   "metadata": {
    "id": "HvUHSbensZx9"
   },
   "source": [
    "Hasil dari campaign marketing yang telah dilakukan sebelumnya sangat berpengaruh terhadap jumlah pembukaan rekening deposito. <br> <br>\n",
    "Hal ini dapat dilihat dari count pada kategori **success** dimana lebih banyak customer yang membuka rekening deposito, dibandingkan yang tidak membuka rekening deposito. <br> <br>\n",
    "\n",
    "Sehingga, tim marketing dapat memprioritaskan untuk melakukan approach kepada nasabah yang sudah pernah berpartisipasi pada campaign sebelumnya.\n"
   ]
  },
  {
   "cell_type": "code",
   "execution_count": 70,
   "metadata": {
    "colab": {
     "base_uri": "https://localhost:8080/",
     "height": 299
    },
    "executionInfo": {
     "elapsed": 516,
     "status": "ok",
     "timestamp": 1639622172806,
     "user": {
      "displayName": "Hans Halwi",
      "photoUrl": "https://lh3.googleusercontent.com/a/default-user=s64",
      "userId": "09772554882127127798"
     },
     "user_tz": -420
    },
    "id": "LAhsLl7_RhNC",
    "outputId": "6fdf320b-80a7-4840-ed33-0463ad8bc96c"
   },
   "outputs": [
    {
     "data": {
      "image/png": "[encoded data removed]",
      "text/plain": [
       "<Figure size 720x360 with 1 Axes>"
      ]
     },
     "metadata": {},
     "output_type": "display_data"
    }
   ],
   "source": [
    "sns.countplot(data=df, y='poutcome', hue='y')\n",
    "\n",
    "plt.title('Number of Term Deposit Account Opening, based on Marketing Campaign Result');\n",
    "plt.xlabel('Number of Accounts Opened', fontsize=10)\n",
    "plt.ylabel('Marketing Campaign Result',fontsize=10);"
   ]
  },
  {
   "cell_type": "code",
   "execution_count": 71,
   "metadata": {
    "colab": {
     "base_uri": "https://localhost:8080/",
     "height": 299
    },
    "executionInfo": {
     "elapsed": 538,
     "status": "ok",
     "timestamp": 1639622188046,
     "user": {
      "displayName": "Hans Halwi",
      "photoUrl": "https://lh3.googleusercontent.com/a/default-user=s64",
      "userId": "09772554882127127798"
     },
     "user_tz": -420
    },
    "id": "RcjccWHxGPgb",
    "outputId": "6aa978a0-5aac-44d3-b0df-6313abfec894"
   },
   "outputs": [
    {
     "data": {
      "image/png": "[encoded data removed]",
      "text/plain": [
       "<Figure size 720x360 with 1 Axes>"
      ]
     },
     "metadata": {},
     "output_type": "display_data"
    }
   ],
   "source": [
    "pout_vis = df.loc[df['poutcome']!='unknown'] ##Exclude untuk yang kategori unknown, karena terlalu dominan pada data\n",
    "sns.countplot(data=pout_vis, y='poutcome', hue='y')\n",
    "\n",
    "plt.title('Number of Term Deposit Account Opening, based on Marketing Campaign Result');\n",
    "plt.xlabel('Number of Accounts Opened', fontsize=10)\n",
    "plt.ylabel('Marketing Campaign Result',fontsize=10);"
   ]
  },
  {
   "cell_type": "markdown",
   "metadata": {
    "id": "DHKynoy5A7EH"
   },
   "source": [
    "### Correlation Heatmap"
   ]
  },
  {
   "cell_type": "code",
   "execution_count": 72,
   "metadata": {
    "colab": {
     "base_uri": "https://localhost:8080/",
     "height": 629
    },
    "executionInfo": {
     "elapsed": 1439,
     "status": "ok",
     "timestamp": 1639199128133,
     "user": {
      "displayName": "Yoga Arif Prasetyo",
      "photoUrl": "https://lh3.googleusercontent.com/a-/AOh14GhIHOM0hjk81qSnAXjHjjE0vY0QrFxbyiwTGmPySw=s64",
      "userId": "08915794686434457753"
     },
     "user_tz": -420
    },
    "id": "wa0pxSOjBKpV",
    "outputId": "d2902a74-0159-4f4e-9ffe-69da66103d0a"
   },
   "outputs": [
    {
     "data": {
      "text/plain": [
       "Text(0.5, 1.0, 'Features Correlation')"
      ]
     },
     "execution_count": 72,
     "metadata": {},
     "output_type": "execute_result"
    },
    {
     "data": {
      "image/png": "[encoded data removed]",
      "text/plain": [
       "<Figure size 1008x720 with 2 Axes>"
      ]
     },
     "metadata": {},
     "output_type": "display_data"
    }
   ],
   "source": [
    "color = sns.diverging_palette(250, 6, as_cmap = True)\n",
    "\n",
    "plt.figure(figsize = (14, 10))\n",
    "sns.heatmap(data_visual.corr(), cmap = color, annot = True)\n",
    "plt.title(\"Features Correlation\", fontsize = 15)"
   ]
  },
  {
   "cell_type": "markdown",
   "metadata": {
    "id": "URBwSWBuBNM9"
   },
   "source": [
    "## Pemilihan Feature"
   ]
  },
  {
   "cell_type": "markdown",
   "metadata": {
    "id": "Ve8wxLDkBb-l"
   },
   "source": [
    "**Categorical features: [\"job_group\",\"marital\",\"education\",\"default\",\"housing\", \"loan\", \"contact\", \"poutcome\", \"y\"]**<br>\n",
    "**Numerical features: [\"age\", \"balance\", \"duration/cost\", \"campaign\"]**"
   ]
  },
  {
   "cell_type": "markdown",
   "metadata": {
    "id": "rFZ-Bys1BjPF"
   },
   "source": [
    "**a. Replace \"unknown\" variable di [\"job\", \"education\", \"contact\"].**<br>\n",
    "**b. Drop features: [\"month\", \"previous\", \"day\", \"pdays\",\"duration/cost\"]**"
   ]
  },
  {
   "cell_type": "code",
   "execution_count": 73,
   "metadata": {
    "colab": {
     "base_uri": "https://localhost:8080/"
    },
    "executionInfo": {
     "elapsed": 94,
     "status": "ok",
     "timestamp": 1639199128134,
     "user": {
      "displayName": "Yoga Arif Prasetyo",
      "photoUrl": "https://lh3.googleusercontent.com/a-/AOh14GhIHOM0hjk81qSnAXjHjjE0vY0QrFxbyiwTGmPySw=s64",
      "userId": "08915794686434457753"
     },
     "user_tz": -420
    },
    "id": "HdkIpEDXsZyI",
    "outputId": "a8bc337a-7f0a-468d-96ce-f335bfd35f20"
   },
   "outputs": [
    {
     "data": {
      "text/plain": [
       "Index(['age', 'job', 'default', 'balance', 'housing', 'loan', 'day', 'month',\n",
       "       'duration', 'campaign', 'pdays', 'previous', 'y', 'cost', 'balgroup',\n",
       "       'age_group', 'job_group_employee', 'job_group_manual labor',\n",
       "       'job_group_retired', 'job_group_self-employed', 'job_group_student',\n",
       "       'job_group_unemployed', 'marital_divorced', 'marital_married',\n",
       "       'marital_single', 'education_primary', 'education_secondary',\n",
       "       'education_tertiary', 'contact_cellular', 'contact_telephone',\n",
       "       'contact_unknown', 'poutcome_failure', 'poutcome_other',\n",
       "       'poutcome_success', 'poutcome_unknown'],\n",
       "      dtype='object')"
      ]
     },
     "execution_count": 73,
     "metadata": {},
     "output_type": "execute_result"
    }
   ],
   "source": [
    "df_model.columns"
   ]
  },
  {
   "cell_type": "code",
   "execution_count": 74,
   "metadata": {
    "colab": {
     "base_uri": "https://localhost:8080/"
    },
    "executionInfo": {
     "elapsed": 79,
     "status": "ok",
     "timestamp": 1639199128134,
     "user": {
      "displayName": "Yoga Arif Prasetyo",
      "photoUrl": "https://lh3.googleusercontent.com/a-/AOh14GhIHOM0hjk81qSnAXjHjjE0vY0QrFxbyiwTGmPySw=s64",
      "userId": "08915794686434457753"
     },
     "user_tz": -420
    },
    "id": "oJxY3WRBsZyI",
    "outputId": "88619285-e66e-4556-a74d-54d97a14a934"
   },
   "outputs": [
    {
     "name": "stdout",
     "output_type": "stream",
     "text": [
      "Shape of X is (45211, 26) and that of y is (45211,)\n"
     ]
    }
   ],
   "source": [
    "y = df_model['y'].values\n",
    "X = df_model.drop(labels = ['job', 'day', 'month', 'y', 'pdays', 'previous', 'cost', 'balgroup', 'age_group'], axis = 1)\n",
    "print(\"Shape of X is {} and that of y is {}\".format(X.shape, y.shape))"
   ]
  },
  {
   "cell_type": "markdown",
   "metadata": {
    "id": "to-KXUXQsZyJ"
   },
   "source": [
    "## Class Imbalance"
   ]
  },
  {
   "cell_type": "code",
   "execution_count": 75,
   "metadata": {
    "colab": {
     "base_uri": "https://localhost:8080/",
     "height": 328
    },
    "executionInfo": {
     "elapsed": 74,
     "status": "error",
     "timestamp": 1639199128152,
     "user": {
      "displayName": "Yoga Arif Prasetyo",
      "photoUrl": "https://lh3.googleusercontent.com/a-/AOh14GhIHOM0hjk81qSnAXjHjjE0vY0QrFxbyiwTGmPySw=s64",
      "userId": "08915794686434457753"
     },
     "user_tz": -420
    },
    "id": "Q8qkp87xsZyJ",
    "outputId": "c123eca3-ce2a-44ac-d7a7-ae8af646a038"
   },
   "outputs": [
    {
     "name": "stdout",
     "output_type": "stream",
     "text": [
      "Shape of X is (59883, 26) and that of y is (59883,)\n"
     ]
    }
   ],
   "source": [
    "X_sm, y_sm = over_sampling.SMOTE(0.5).fit_resample(X, y)\n",
    "print(\"Shape of X is {} and that of y is {}\".format(X_sm.shape, y_sm.shape))"
   ]
  },
  {
   "cell_type": "markdown",
   "metadata": {
    "id": "WtLxFt-CsZyJ"
   },
   "source": [
    "# Modeling"
   ]
  },
  {
   "cell_type": "code",
   "execution_count": 76,
   "metadata": {
    "id": "1Y8JerVisZyJ"
   },
   "outputs": [],
   "source": [
    "def eval_classification(model, xtrain, ytrain, xtest, ytest):\n",
    "    ypred = model.predict(xtest)\n",
    "    ypred = (ypred > 0.5).astype(int)\n",
    "    y_train = model.predict(xtrain)\n",
    "    y_train = (y_train > 0.5).astype(int)\n",
    "    \n",
    "    print(\"Accuracy (Test Set): %.2f\" % accuracy_score(ytest, ypred))\n",
    "    print(\"Precision (Test Set): %.2f\" % precision_score(ytest, ypred))\n",
    "    print(\"Recall (Test Set): %.2f\" % recall_score(ytest, ypred))\n",
    "    print(\"AUC (Test Set - Proba) : %.2f\" % roc_auc_score(ytest, ypred))\n",
    "    print(\"F1-Score (Test Set): %.2f\" % f1_score(ytest, ypred))\n",
    "    print(\"F1-Score (Train Set): %.2f\" % f1_score(ytrain, y_train))\n",
    "    \n",
    "def show_feature_importance(model):\n",
    "    feat_importances = pd.Series(model.feature_importances_, index=X.columns)\n",
    "    ax = feat_importances.nlargest(25).plot(kind='barh', figsize=(10, 8))\n",
    "    ax.invert_yaxis()\n",
    "\n",
    "    plt.xlabel('score')\n",
    "    plt.ylabel('feature')\n",
    "    plt.title('feature importance score')\n",
    "\n",
    "def show_best_hyperparameter(model, hyperparameters):\n",
    "    for key, value in hyperparameters.items() :\n",
    "        print('Best '+key+':', model.get_params()[key])"
   ]
  },
  {
   "cell_type": "markdown",
   "metadata": {
    "id": "k0o-G-qtsZyK"
   },
   "source": [
    "## Split Train-Test"
   ]
  },
  {
   "cell_type": "code",
   "execution_count": 77,
   "metadata": {
    "id": "Z_yUjLoqsZyK"
   },
   "outputs": [],
   "source": [
    "X_train, X_test, y_train, y_test = train_test_split(X_sm, y_sm, test_size = 0.3, random_state = 42)"
   ]
  },
  {
   "cell_type": "markdown",
   "metadata": {
    "id": "pV-apwtbsZyM"
   },
   "source": [
    "## KNN"
   ]
  },
  {
   "cell_type": "code",
   "execution_count": 78,
   "metadata": {
    "id": "pDJUOxtAsZyN"
   },
   "outputs": [
    {
     "name": "stdout",
     "output_type": "stream",
     "text": [
      "Accuracy (Test Set): 0.81\n",
      "Precision (Test Set): 0.69\n",
      "Recall (Test Set): 0.78\n",
      "AUC (Test Set - Proba) : 0.81\n",
      "F1-Score (Test Set): 0.74\n",
      "F1-Score (Train Set): 0.83\n"
     ]
    }
   ],
   "source": [
    "knn = KNeighborsClassifier()\n",
    "knn.fit(X_train,y_train)\n",
    "y_pred = knn.predict(X_test)\n",
    "eval_classification(knn,X_train,y_train,X_test,y_test)"
   ]
  },
  {
   "cell_type": "markdown",
   "metadata": {
    "id": "ZUGlf1eHsZyN"
   },
   "source": [
    "## AdaBoost"
   ]
  },
  {
   "cell_type": "code",
   "execution_count": 79,
   "metadata": {
    "id": "rK8VEyz3sZyO"
   },
   "outputs": [
    {
     "name": "stdout",
     "output_type": "stream",
     "text": [
      "Accuracy (Test Set): 0.91\n",
      "Precision (Test Set): 0.90\n",
      "Recall (Test Set): 0.82\n",
      "AUC (Test Set - Proba) : 0.89\n",
      "F1-Score (Test Set): 0.86\n",
      "F1-Score (Train Set): 0.86\n"
     ]
    }
   ],
   "source": [
    "ab = AdaBoostClassifier(random_state=42)\n",
    "ab.fit(X_train,y_train)\n",
    "eval_classification(ab,X_train,y_train,X_test,y_test)"
   ]
  },
  {
   "cell_type": "markdown",
   "metadata": {
    "id": "3VqhbS6lsZyO"
   },
   "source": [
    "## XGBoost"
   ]
  },
  {
   "cell_type": "code",
   "execution_count": 80,
   "metadata": {
    "id": "esiwMIWEsZyO"
   },
   "outputs": [
    {
     "name": "stdout",
     "output_type": "stream",
     "text": [
      "[21:20:17] WARNING: C:/Users/Administrator/workspace/xgboost-win64_release_1.5.0/src/learner.cc:1115: Starting in XGBoost 1.3.0, the default evaluation metric used with the objective 'binary:logistic' was changed from 'error' to 'logloss'. Explicitly set eval_metric if you'd like to restore the old behavior.\n",
      "Accuracy (Test Set): 0.92\n",
      "Precision (Test Set): 0.90\n",
      "Recall (Test Set): 0.85\n",
      "AUC (Test Set - Proba) : 0.90\n",
      "F1-Score (Test Set): 0.88\n",
      "F1-Score (Train Set): 0.92\n"
     ]
    }
   ],
   "source": [
    "xg = XGBClassifier(random_state=42)\n",
    "xg.fit(X_train,y_train)\n",
    "eval_classification(xg,X_train,y_train,X_test,y_test)"
   ]
  },
  {
   "cell_type": "markdown",
   "metadata": {
    "id": "EjLXTOEHsZyP"
   },
   "source": [
    "## Decission Tree"
   ]
  },
  {
   "cell_type": "code",
   "execution_count": 81,
   "metadata": {
    "id": "i0l8WFm6sZyQ"
   },
   "outputs": [
    {
     "name": "stdout",
     "output_type": "stream",
     "text": [
      "Accuracy (Test Set): 0.88\n",
      "Precision (Test Set): 0.81\n",
      "Recall (Test Set): 0.83\n",
      "AUC (Test Set - Proba) : 0.87\n",
      "F1-Score (Test Set): 0.82\n",
      "F1-Score (Train Set): 1.00\n"
     ]
    }
   ],
   "source": [
    "model = DecisionTreeClassifier(random_state=42)\n",
    "model.fit(X_train,y_train)\n",
    "y_pred = model.predict(X_test)\n",
    "eval_classification(model, X_train, y_train, X_test, y_test)"
   ]
  },
  {
   "cell_type": "markdown",
   "metadata": {
    "id": "lSQMbTWnsZyS"
   },
   "source": [
    "## Random Forest"
   ]
  },
  {
   "cell_type": "code",
   "execution_count": 82,
   "metadata": {
    "id": "BP4d8DN2sZyT"
   },
   "outputs": [
    {
     "name": "stdout",
     "output_type": "stream",
     "text": [
      "Accuracy (Test Set): 0.92\n",
      "Precision (Test Set): 0.90\n",
      "Recall (Test Set): 0.85\n",
      "AUC (Test Set - Proba) : 0.90\n",
      "F1-Score (Test Set): 0.88\n",
      "F1-Score (Train Set): 1.00\n"
     ]
    }
   ],
   "source": [
    "rf = RandomForestClassifier(random_state=42)\n",
    "rf.fit(X_train,y_train)\n",
    "eval_classification(rf, X_train, y_train, X_test, y_test)"
   ]
  },
  {
   "cell_type": "markdown",
   "metadata": {
    "id": "DVDYeSmWsZyW"
   },
   "source": [
    "## Logistic Regression Statsmodel"
   ]
  },
  {
   "cell_type": "code",
   "execution_count": 83,
   "metadata": {},
   "outputs": [],
   "source": [
    "X_train_stat = sm.add_constant(X_train)\n",
    "X_test_stat = sm.add_constant(X_test)"
   ]
  },
  {
   "cell_type": "markdown",
   "metadata": {},
   "source": [
    "### Fit Reguralized"
   ]
  },
  {
   "cell_type": "code",
   "execution_count": 84,
   "metadata": {},
   "outputs": [
    {
     "name": "stdout",
     "output_type": "stream",
     "text": [
      "Optimization terminated successfully    (Exit mode 0)\n",
      "            Current function value: 0.19811122509105195\n",
      "            Iterations: 201\n",
      "            Function evaluations: 217\n",
      "            Gradient evaluations: 201\n",
      "                           Logit Regression Results                           \n",
      "==============================================================================\n",
      "Dep. Variable:                      y   No. Observations:                41918\n",
      "Model:                          Logit   Df Residuals:                    41891\n",
      "Method:                           MLE   Df Model:                           26\n",
      "Date:                Fri, 14 Jan 2022   Pseudo R-squ.:                  0.6891\n",
      "Time:                        21:20:27   Log-Likelihood:                -8304.4\n",
      "converged:                       True   LL-Null:                       -26714.\n",
      "Covariance Type:            nonrobust   LLR p-value:                     0.000\n",
      "===========================================================================================\n",
      "                              coef    std err          z      P>|z|      [0.025      0.975]\n",
      "-------------------------------------------------------------------------------------------\n",
      "const                     202.1541   1.51e+06      0.000      1.000   -2.96e+06    2.96e+06\n",
      "age                        -0.0006      0.002     -0.226      0.821      -0.005       0.004\n",
      "default                    -0.2124      0.184     -1.155      0.248      -0.573       0.148\n",
      "balance                  1.402e-05   5.83e-06      2.406      0.016     2.6e-06    2.54e-05\n",
      "housing                    -0.8682      0.045    -19.115      0.000      -0.957      -0.779\n",
      "loan                       -0.7006      0.070    -10.045      0.000      -0.837      -0.564\n",
      "duration                    0.0042   7.51e-05     56.520      0.000       0.004       0.004\n",
      "campaign                   -0.1288      0.012    -10.935      0.000      -0.152      -0.106\n",
      "job_group_employee        -32.8281    4.3e+05  -7.64e-05      1.000   -8.42e+05    8.42e+05\n",
      "job_group_manual labor    -33.1061   4.29e+05  -7.72e-05      1.000   -8.41e+05    8.41e+05\n",
      "job_group_retired         -32.2798    4.3e+05   -7.5e-05      1.000   -8.44e+05    8.43e+05\n",
      "job_group_self-employed   -33.1318   4.28e+05  -7.73e-05      1.000    -8.4e+05     8.4e+05\n",
      "job_group_student         -32.2576    4.3e+05  -7.51e-05      1.000   -8.42e+05    8.42e+05\n",
      "job_group_unemployed      -33.0243   4.28e+05  -7.71e-05      1.000   -8.39e+05    8.39e+05\n",
      "marital_divorced          -53.8769   2.27e+06  -2.37e-05      1.000   -4.46e+06    4.46e+06\n",
      "marital_married           -53.9832   2.27e+06  -2.38e-05      1.000   -4.45e+06    4.45e+06\n",
      "marital_single            -53.6801   2.27e+06  -2.36e-05      1.000   -4.45e+06    4.45e+06\n",
      "education_primary         -53.2969   3.38e+06  -1.58e-05      1.000   -6.63e+06    6.63e+06\n",
      "education_secondary       -53.0844   3.36e+06  -1.58e-05      1.000   -6.59e+06    6.59e+06\n",
      "education_tertiary        -52.8520   3.38e+06  -1.57e-05      1.000   -6.62e+06    6.61e+06\n",
      "contact_cellular          -18.2363    508.517     -0.036      0.971   -1014.911     978.439\n",
      "contact_telephone         -18.2483    508.517     -0.036      0.971   -1014.923     978.427\n",
      "contact_unknown           -19.4914    508.517     -0.038      0.969   -1016.166     977.184\n",
      "poutcome_failure          -46.4639        nan        nan        nan         nan         nan\n",
      "poutcome_other            -46.2531        nan        nan        nan         nan         nan\n",
      "poutcome_success          -44.1295        nan        nan        nan         nan         nan\n",
      "poutcome_unknown          -46.7435        nan        nan        nan         nan         nan\n",
      "===========================================================================================\n",
      "\n",
      "Possibly complete quasi-separation: A fraction 0.24 of observations can be\n",
      "perfectly predicted. This might indicate that there is complete\n",
      "quasi-separation. In this case some parameters will not be identified.\n"
     ]
    }
   ],
   "source": [
    "logit_model=sm.Logit(y_train,X_train_stat)\n",
    "result=logit_model.fit_regularized(random_state = 42)\n",
    "print(result.summary())"
   ]
  },
  {
   "cell_type": "code",
   "execution_count": 85,
   "metadata": {},
   "outputs": [
    {
     "name": "stdout",
     "output_type": "stream",
     "text": [
      "Accuracy (Test Set): 0.92\n",
      "Precision (Test Set): 0.93\n",
      "Recall (Test Set): 0.82\n",
      "AUC (Test Set - Proba) : 0.89\n",
      "F1-Score (Test Set): 0.87\n",
      "F1-Score (Train Set): 0.87\n"
     ]
    }
   ],
   "source": [
    "eval_classification(result, X_train_stat, y_train, X_test_stat, y_test)"
   ]
  },
  {
   "cell_type": "code",
   "execution_count": 86,
   "metadata": {
    "id": "uW_rFWTwsZyY"
   },
   "outputs": [
    {
     "name": "stdout",
     "output_type": "stream",
     "text": [
      "Optimization terminated successfully    (Exit mode 0)\n",
      "            Current function value: 0.19811409556942464\n",
      "            Iterations: 195\n",
      "            Function evaluations: 210\n",
      "            Gradient evaluations: 195\n",
      "                           Logit Regression Results                           \n",
      "==============================================================================\n",
      "Dep. Variable:                      y   No. Observations:                41918\n",
      "Model:                          Logit   Df Residuals:                    41891\n",
      "Method:                           MLE   Df Model:                           26\n",
      "Date:                Fri, 14 Jan 2022   Pseudo R-squ.:                  0.6891\n",
      "Time:                        21:20:29   Log-Likelihood:                -8304.4\n",
      "converged:                       True   LL-Null:                       -26714.\n",
      "Covariance Type:            nonrobust   LLR p-value:                     0.000\n",
      "===========================================================================================\n",
      "                              coef    std err          z      P>|z|      [0.025      0.975]\n",
      "-------------------------------------------------------------------------------------------\n",
      "const                     116.5141    2.1e+05      0.001      1.000   -4.12e+05    4.13e+05\n",
      "age                        -0.0006      0.002     -0.226      0.821      -0.005       0.004\n",
      "default                    -0.2123      0.184     -1.155      0.248      -0.573       0.148\n",
      "balance                  1.402e-05   5.83e-06      2.406      0.016     2.6e-06    2.54e-05\n",
      "housing                    -0.8682      0.045    -19.115      0.000      -0.957      -0.779\n",
      "loan                       -0.7006      0.070    -10.045      0.000      -0.837      -0.564\n",
      "duration                    0.0042   7.51e-05     56.520      0.000       0.004       0.004\n",
      "campaign                   -0.1288      0.012    -10.935      0.000      -0.152      -0.106\n",
      "job_group_employee        -19.0728    430.874     -0.044      0.965    -863.571     825.425\n",
      "job_group_manual labor    -19.3508    430.874     -0.045      0.964    -863.849     825.148\n",
      "job_group_retired         -18.5245    430.874     -0.043      0.966    -863.023     825.974\n",
      "job_group_self-employed   -19.3765    430.874     -0.045      0.964    -863.875     825.122\n",
      "job_group_student         -18.5022    430.874     -0.043      0.966    -863.001     825.996\n",
      "job_group_unemployed      -19.2689    430.874     -0.045      0.964    -863.767     825.229\n",
      "marital_divorced          -31.2647   1.55e+05     -0.000      1.000   -3.04e+05    3.04e+05\n",
      "marital_married           -31.3710   1.55e+05     -0.000      1.000   -3.04e+05    3.04e+05\n",
      "marital_single            -31.0679   1.55e+05     -0.000      1.000   -3.04e+05    3.04e+05\n",
      "education_primary         -31.0831   1.46e+05     -0.000      1.000   -2.86e+05    2.86e+05\n",
      "education_secondary       -30.8706   1.46e+05     -0.000      1.000   -2.86e+05    2.86e+05\n",
      "education_tertiary        -30.6382   1.46e+05     -0.000      1.000   -2.86e+05    2.86e+05\n",
      "contact_cellular          -10.3521      9.871     -1.049      0.294     -29.700       8.996\n",
      "contact_telephone         -10.3641      9.872     -1.050      0.294     -29.712       8.984\n",
      "contact_unknown           -11.6071      9.872     -1.176      0.240     -30.955       7.741\n",
      "poutcome_failure          -27.2895   1.75e+04     -0.002      0.999   -3.43e+04    3.42e+04\n",
      "poutcome_other            -27.0787   1.75e+04     -0.002      0.999   -3.43e+04    3.42e+04\n",
      "poutcome_success          -24.9551   1.75e+04     -0.001      0.999   -3.43e+04    3.42e+04\n",
      "poutcome_unknown          -27.5691   1.75e+04     -0.002      0.999   -3.43e+04    3.42e+04\n",
      "===========================================================================================\n",
      "\n",
      "Possibly complete quasi-separation: A fraction 0.24 of observations can be\n",
      "perfectly predicted. This might indicate that there is complete\n",
      "quasi-separation. In this case some parameters will not be identified.\n"
     ]
    },
    {
     "name": "stderr",
     "output_type": "stream",
     "text": [
      "C:\\Users\\Dell\\anaconda new\\lib\\site-packages\\statsmodels\\base\\l1_solvers_common.py:71: ConvergenceWarning: QC check did not pass for 26 out of 27 parameters\n",
      "Try increasing solver accuracy or number of iterations, decreasing alpha, or switch solvers\n",
      "  warnings.warn(message, ConvergenceWarning)\n",
      "C:\\Users\\Dell\\anaconda new\\lib\\site-packages\\statsmodels\\base\\l1_solvers_common.py:144: ConvergenceWarning: Could not trim params automatically due to failed QC check. Trimming using trim_mode == 'size' will still work.\n",
      "  warnings.warn(msg, ConvergenceWarning)\n"
     ]
    }
   ],
   "source": [
    "logit_model=sm.Logit(y_train,X_train_stat)\n",
    "result=logit_model.fit_regularized(random_state = 42,alpha=0.0001,L1_wt=0)\n",
    "print(result.summary())"
   ]
  },
  {
   "cell_type": "code",
   "execution_count": 87,
   "metadata": {},
   "outputs": [
    {
     "name": "stdout",
     "output_type": "stream",
     "text": [
      "Accuracy (Test Set): 0.92\n",
      "Precision (Test Set): 0.93\n",
      "Recall (Test Set): 0.82\n",
      "AUC (Test Set - Proba) : 0.89\n",
      "F1-Score (Test Set): 0.87\n",
      "F1-Score (Train Set): 0.87\n"
     ]
    }
   ],
   "source": [
    "eval_classification(result, X_train_stat, y_train, X_test_stat, y_test)"
   ]
  }
 ],
 "metadata": {
  "colab": {
   "collapsed_sections": [
    "pkW-d3y2ArbA",
    "0zFIOZQLTnR6",
    "Wz3IbWF8sZx8",
    "AcOEVO9jsZx9",
    "LNMUyx9SsZx9"
   ],
   "name": "Keep_It_Up_Bank_Marketing.ipynb",
   "provenance": []
  },
  "interpreter": {
   "hash": "427b6858fe3971c466be3e896cef33cc72124642b943cba6d5c6f05804205619"
  },
  "kernelspec": {
   "display_name": "Python 3",
   "language": "python",
   "name": "python3"
  },
  "language_info": {
   "codemirror_mode": {
    "name": "ipython",
    "version": 3
   },
   "file_extension": ".py",
   "mimetype": "text/x-python",
   "name": "python",
   "nbconvert_exporter": "python",
   "pygments_lexer": "ipython3",
   "version": "3.8.8"
  }
 },
 "nbformat": 4,
 "nbformat_minor": 4
}
